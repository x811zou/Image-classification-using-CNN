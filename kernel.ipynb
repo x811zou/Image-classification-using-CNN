{
 "cells": [
  {
   "cell_type": "code",
   "execution_count": 18,
   "metadata": {},
   "outputs": [],
   "source": [
    "import zipfile as zf\n",
    "files = zf.ZipFile(\"validate/false.zip\")\n",
    "files.extractall('validate/')\n",
    "files.close()"
   ]
  },
  {
   "cell_type": "code",
   "execution_count": 8,
   "metadata": {},
   "outputs": [
    {
     "data": {
      "text/plain": [
       "['b6b3a0b5d07842a3cafc37cc035b1c1617ada5a1.tif',\n",
       " '7567fbd30736fb970b7d84730339492ed2a12e20.tif',\n",
       " '2343a0ecfab8a190f4bc0b0008428acd54e3e9be.tif',\n",
       " '396cb84ead16c9ab6d874be00125a057fd33d401.tif',\n",
       " '8979373690224fc8837f54d54ab76ceed8c03df5.tif',\n",
       " 'e609066531edbb68d2214bda4c6cd273a7de0885.tif',\n",
       " '71c8a1a197daa7177ced8bbcc28c296f4b499d68.tif',\n",
       " 'eb5b95b0385260fa9196b42959a5957bf8cc1af8.tif',\n",
       " 'a6314511be4c6b81e850eef8b6606c7fb8ca7f48.tif',\n",
       " '8141565c826e1878bf448419e49e55f4d6b5b8a4.tif',\n",
       " 'b001544be8311653ec635890049bcfbfd46dbe4b.tif',\n",
       " 'b00ba562cb8449bc1b679ad4678a49ec0f278012.tif',\n",
       " '73e0b86276c08d95d348de4654a4d9acdffe7b52.tif',\n",
       " '83e59034a140057ab90f327400f4c1b1b6fad6e7.tif',\n",
       " 'e727206d8a0a1ac749eef545674c618a2be45d98.tif',\n",
       " '20bdacb58b4880ea43fa6061456f2ecf99bcb2f6.tif',\n",
       " 'ed85026371718312c14f208733a60ae98e4d8828.tif',\n",
       " '96c654d56cdf1e10cb28622b89f60303e7187e47.tif',\n",
       " '9aaabec39f2bf1c018c87c970f6a621f830f66b5.tif',\n",
       " '9bda869e95fb9964c21e1a26829b65ff35b98888.tif',\n",
       " 'abf53e5a1268407b6da7ef294184ab31596cc842.tif',\n",
       " '643918e3236328c2a3eeef01fbbb08c5ec23eb07.tif',\n",
       " '11fadeab3cd4d8c224d152d514e39edc2861c5d9.tif',\n",
       " '98823f00cc86457f865ff6f6073108d86dce807e.tif',\n",
       " 'b809c95c9964d321edb639225c85c45104061840.tif',\n",
       " 'fb33fa71dbf9bb7564efdcf1448957c4711ae5bf.tif',\n",
       " 'b786f9183623f92f71b0021fb78c8875757e9d9a.tif',\n",
       " 'bba48da773ec9d7aae6c2172a1f3be5746dc8af4.tif',\n",
       " 'c4b6ff5857bf5df1c771d687b0fe9ec13d4aa43f.tif',\n",
       " 'fa01aa34cdaf999dbdd81ae50b96eafddd06c297.tif',\n",
       " 'fac88c6f9522adbb6ad0bb2a644e1b556274dbe4.tif',\n",
       " 'f666406058970c03353a6d9016c7d07addf746cd.tif',\n",
       " 'bb2907742f836e6cbca6873a18ce173f29c38d58.tif',\n",
       " '41d165023c271ea18147469ab65ac619048e8b7a.tif',\n",
       " 'd4d562d463597182840729848ecbe50b93df6114.tif',\n",
       " '692c707dd546004788a158d99ba526de2a7c5b71.tif',\n",
       " '6274352cec1f79b031afd73e3461553e77a6d988.tif',\n",
       " '810c40aad724d6822815f2a93138c329bb0bacad.tif',\n",
       " 'd8353279a0529017f1c7cc47e326462449071645.tif',\n",
       " '8735b79a49bb96bc3fe52252377e750133bd6084.tif',\n",
       " '6075171d8314931cdf5f42c92b3c6afd9b3b7ed9.tif',\n",
       " 'ade3719bc777825a73404ee45278ee018338ce5d.tif',\n",
       " '68dd3f15b48eed75a8ff81bddebc237be8dc2107.tif',\n",
       " 'c458dddd87dc9fc3cf3d8e4cb4640f949075c9f7.tif',\n",
       " 'c871fd1803473479de7a0b436409dbe3d267c9bd.tif',\n",
       " 'cfd24afab077df244be4bcef9471c3906618957a.tif',\n",
       " '6cee1628929f6c09f88b145e2b68e2d1009e36ea.tif',\n",
       " 'c4abe3e78d2553c5d8f897fc230c0fa78fef29c3.tif',\n",
       " 'aa4395eaa9172c53d85ab90b22bfa2065098f681.tif',\n",
       " 'cd9025ca9b69e4c9a9f9de77dd18d82ce9ad3b26.tif',\n",
       " '57df08e74264e28bacab1d7fb007f9bb9fdbefc6.tif',\n",
       " 'cf37546d3ac8990355e770aecda009f44057bc08.tif',\n",
       " '706458e393f80c091c4060045cccacd848bb6e68.tif',\n",
       " 'f9188e9baa0377085d945f11c73d3a534a39148e.tif',\n",
       " '01cdf0147a13c80ec9652f7406d6f20dcfaea767.tif',\n",
       " '2e9cbf30ea89db9656a3fe516bc29b887c21eb26.tif',\n",
       " '490475e7f052351562266f8daf4ddf288e492f7e.tif',\n",
       " '69f4dc5205b1432cfea26fa78339aeaec0e963e4.tif',\n",
       " '9063d7053a4aa842f7a9c59249c19e825844defc.tif',\n",
       " 'db0b2b862826e295a1be318b644268e3709f5679.tif',\n",
       " 'f9c21e7a9686fd32305c886586b37d0e66e62f2b.tif',\n",
       " 'f96ac30256856d80f0cec2788e107eb0d2b9cffa.tif',\n",
       " '20066ce00ba63ae41ba0a6920ad8464183f94210.tif',\n",
       " '6561369c7fb731b284da24a75ea4005e5a067a09.tif',\n",
       " '78b57aed5cde1669072d53d3f2fb16b2446a2766.tif',\n",
       " '42a864190c264c5dbefb992cf5fc3d7f51db6040.tif',\n",
       " 'd8ff032b851348e021b180e5c4b4de312085a9e1.tif',\n",
       " 'da101d85152f3f2df57a18e817f7c3f58b3905f3.tif',\n",
       " '25590babce4a9b7405f975203fdbbada711ceee8.tif',\n",
       " 'be9189677b7a6d6ab9d94c31e7262856ccd3ad7c.tif',\n",
       " '2c8409609f22423bdaf4d86aaedb861703bbe0f6.tif',\n",
       " '434e0df157fcd01bcf9536132a0b58f0295a0cc9.tif',\n",
       " '453b31f89b48030e742cc9718682dd28c4e868a1.tif',\n",
       " '6ee802dfa12505a52f23940f18cee83c7bf89ab6.tif',\n",
       " '0066f0402a390df7195e5e8bb7d35c4b2d057e76.tif',\n",
       " 'ee0b3e0f547024a0d0f44ed52e2586abf728ad01.tif',\n",
       " '637cd3535c7181739786668b1bf9db80ce77a1b1.tif',\n",
       " '05f0fcfbd53f3fcfaf4f2cd3922458d42925013c.tif',\n",
       " '308f0e1952bc1497eb25d8d8d98cf40a82714117.tif',\n",
       " '17e77d5496d0e47594cefac6bf5372113e06ec9f.tif',\n",
       " '1bbcaaa292bfd8751970099867e782781cf94900.tif',\n",
       " 'fd2003867d718dfa749898d4956cdfae2af135c5.tif',\n",
       " 'ff1dd7be24e74d29d5a91862179703eadfe8fe43.tif',\n",
       " 'f3812b3a86a782fc9f11599d6808a972a0c92dc7.tif',\n",
       " '9e777742b940e9947d27ad8f998fd31d6f32c286.tif',\n",
       " 'fc189ba8119cbacbda69e0f7faf036f444deb393.tif',\n",
       " '0f4af676933945fe415cc58fd3e6b9073bd761aa.tif',\n",
       " 'd7dba96d43a123f6ec05d7be06440c9a579856ca.tif',\n",
       " '733fe03a9bfe67c76baddfd2133f18a64d10bc4d.tif',\n",
       " 'ddfa86ebc12fef5bb2210a02d1e33d5408df8d2b.tif',\n",
       " '66c1dc7554af02e603fbec579c2b3c7dfe81d367.tif',\n",
       " '6ad15de71b16999645fc0fa883b890021bd4d29b.tif',\n",
       " 'f1a7e71ef9ba493b4d2e6edc6e78e6ad469487f8.tif',\n",
       " 'd32f380e3df7ca54f317489e989b96705fc70685.tif',\n",
       " 'ed7a3507cfdeb202de11f629544179ad4134f0a3.tif',\n",
       " '12be21b138bac160c5d6467cc132eecadc666965.tif',\n",
       " '0d6c4abb1351999708461910268ae2f0b52f0679.tif',\n",
       " '6d3b5edee2499709fe8d772a877a08cbfff6ff3b.tif',\n",
       " 'ca1245a9999e0ea4d7925f23ec21121289394407.tif',\n",
       " 'f4f24c44598a32457ca07dc4e1deb57ba7e34d23.tif',\n",
       " '3459d9d3745780d6da9be7ab07b596121b79dad9.tif',\n",
       " '261b7032f2ad7149bffed1787843a0ae2a8ad8be.tif',\n",
       " '426a9d66f17345917b6c5341bd5e7b5f1194a066.tif',\n",
       " 'a4eda6a33eb3299b87d810a9fdc48c1808c59faf.tif',\n",
       " 'ae6ffbbb344ff7d9e07c16d602fb08ddaf93dda4.tif',\n",
       " 'ff56726b8b169975a5b0f532f1c1bed70bd6dc15.tif',\n",
       " '358d0b9a76191ef9a4627e5d879a58e11a99403e.tif',\n",
       " 'edeb6b41800e854c84b9fd121bea1f31a9cdc0a7.tif',\n",
       " 'bda459e405e4650889bd00d21eaf8a6bce13115b.tif',\n",
       " 'feed43e4fc9e999aa37067c126b30cb143100eed.tif',\n",
       " 'f58668aa47e80c38fd8c8c9cecb6a5b1df4b4500.tif',\n",
       " '20661e64cd2bf3644a462609d597bf2953240d93.tif',\n",
       " '31ae853675620208902f8228c31754de2dd5a1a4.tif',\n",
       " 'c67ac4b6292d3dd2239de6a9cd02654d3eb3d8b2.tif',\n",
       " '710b3e1678cfa2b519912952f1daa3900b6ad247.tif',\n",
       " '6d6e277b88455d324c18f285207ef1002c5cc9da.tif',\n",
       " 'c4a111fa924ad5e80c4370a9d1d3dfc3b9c2dc8d.tif',\n",
       " '06238f32a6a537234eedabf24c12c6b28ee288bd.tif',\n",
       " 'eb7d37b12b5eb84fa6f321e130d4938a8e18b723.tif',\n",
       " '4c4456c590a85a431a0bca0df4e70207976f32d5.tif',\n",
       " 'fb471e2d1c6a818b41c2f694f4a6122efe1e573a.tif',\n",
       " 'ede3317265e82e36e839dc8da6fcf30d0db46c08.tif',\n",
       " 'dfb7d5bfeed09770a25e44bd7f9e9cc523a2945a.tif',\n",
       " 'ec5c61638ef7f679e932f2c5ab874bb93e360a93.tif',\n",
       " 'a2f9ee4db4afe2f4525d1ba5d050b0fa82fb8c5f.tif',\n",
       " 'a521a9e1ff832f7b612b6cdb0aad865522643d59.tif',\n",
       " 'aec94d4181018272087ff9bc396207f338def60c.tif',\n",
       " '876502e823a1464c1ad25aac7a6e3de5f9652f39.tif',\n",
       " '055fa3a601c4f218f0c97e1b8655459cf4bd45ee.tif',\n",
       " '58fec261dc879ed2406bdbc633b714b12e212e1d.tif',\n",
       " '0bf9ac518eb95abab3d16ac998ac9e690a34e1cd.tif',\n",
       " 'b544dec8dfd1ae6c989975bc6d761cd232414fa1.tif',\n",
       " '18df5cd3f23586b8d49420fd57cc4c0c0a636f4e.tif',\n",
       " '7de6d28ae79a1c36fc7b3dde98926c8baeb0902d.tif',\n",
       " '8f6a7015d8591522cbc511903d25b215d50a382d.tif',\n",
       " 'a9cfcc53eada2352a7b09c78893cdb6728a6ed8d.tif',\n",
       " '2e5c0f4241c08436d804d5c83a282679df16c943.tif',\n",
       " '5ec7da43a390a101feda53e48f69f4baaade0022.tif',\n",
       " '04913c5585e2e28ecd7434726e0f5d0d38428fe0.tif',\n",
       " 'f760a54d6adef09e73e6628174e096251c68b9f5.tif',\n",
       " '2866dd062c5cdab84fecf246e7d8aa830043e57d.tif',\n",
       " '6960dc7ea4d6255b139306ab04a97466110c3ffa.tif',\n",
       " 'd614e68cef8aa8ff18417406c4d3c8ecc3f0e83d.tif',\n",
       " '54fedf9ec0cad5e01fe9d2d000489b9cd6c4b4f7.tif',\n",
       " '387e93714a4ee4fe7ca0df501960913c57603a65.tif',\n",
       " '56afe7f49df4b89cb0439533324873074eff72f3.tif',\n",
       " '45935c1b55a5049e280ecd5cf1923c4688b43c5a.tif',\n",
       " '35e5b72d2448f8e460145c3d383a951bb082df76.tif',\n",
       " '26f46c2592ae7bf9fdc37ad9627ed4bd56464e38.tif',\n",
       " '66337079968bde5b15af36e85ce9a4ca37bd0a1b.tif',\n",
       " 'b81addb38371da76f5cb05294437bb93c8c5edb5.tif',\n",
       " 'bd06fb67194d257e84bd5b795eb4c8e811c6cb19.tif',\n",
       " '2ec593d0cf3e492d4aabbbdc0bd3ea9175831377.tif',\n",
       " 'bfa99152d0ac52cd06d9a9a653cbf55a0b07f9dc.tif',\n",
       " '424ab1a10a031000f16fccf300954110eea133d8.tif',\n",
       " '983ee4b68310ea540e57e18eebcdd21328d62eb6.tif',\n",
       " '8d7e609d229d75ef650d372b9905af9e0995be01.tif',\n",
       " 'b95d5a2c213adc90ecc4d72537d517ac56ccb49f.tif',\n",
       " '13d586ed695b385b7118a8b565c75837a9c59ce0.tif',\n",
       " '318cbfa0e0b1c1e34e0c93a12365f10ab3375149.tif',\n",
       " 'a907dc08bd02d58f715e4184ba8552db5ea549c0.tif',\n",
       " '3af9ca2efe58029755745fa359ddf2da2060338a.tif',\n",
       " '84a00ac515d88211c1734f0fe3567a2ecc4b12dd.tif',\n",
       " '34375e4b3e9f142896e9293e401014ff5695f34c.tif',\n",
       " 'e388241862ab2575b65f7f17aeb4be74564557c7.tif',\n",
       " '6d7c826084d3ef1736729e3869193d93c57abd59.tif',\n",
       " '095180c9a7f83e0ae1dc3bd8a434f44af6e9bdf3.tif',\n",
       " 'a018b369ea6a51edc99d25decd83a646d1fed4dc.tif',\n",
       " '47ed167fb6a8c35fca21c65e0d2b9977045c0673.tif',\n",
       " '5dc155bedafdbc3a953ea0bb279592f2116dd3e0.tif',\n",
       " 'ebfb177256ac6d1343e48a7b2bfd30c17a109b29.tif',\n",
       " '56e589669836a5a0bd2b5e3f36139bc3a693c679.tif',\n",
       " '687b0c132fbbd8d12697dece030b05c4b0ee35a8.tif',\n",
       " '248b35f186edf5b320581238e216551361b8a182.tif',\n",
       " 'ebb663a951c5bc91b93bc871b4517dc2724b87a9.tif',\n",
       " '6d700831a7165c7dceb383767fcd029d076d68be.tif',\n",
       " '56438cc70daafe77350772d5c7fab2a6d8f68906.tif',\n",
       " '976af3238c52ca10a9f65d4c817b92bee89bccda.tif',\n",
       " 'ed095ea2605dd7e555fb24bd5ccbcc9b89f8f32d.tif',\n",
       " '390691485def9860cd2078ae6872a6ee2cf1e113.tif',\n",
       " '79eca891e7c585d3d6837ed66e60a61e2d5f3a1e.tif',\n",
       " '869ff7eb1679bad89f61efc83f299346d04261c0.tif',\n",
       " 'ab3e25c7695fef6c466341188e8fea85704478a0.tif',\n",
       " '1893e75e9f8b6bec7a106f4c164231c833d35df4.tif',\n",
       " '656837f9e79ec69e9cefbc6600985c76a100947f.tif',\n",
       " 'f74152de6d17a738282a704499639960886bc77f.tif',\n",
       " 'ade110cf1b0dfe8d2b3be43518fc74c7205d1437.tif',\n",
       " '42cc992e76105289dbc3fbc5d3b0a5010896e48f.tif',\n",
       " 'c207e33320f5c33eb28c653f3f6044ed92ca754c.tif',\n",
       " '05ce484047987eeff826743329ef3ae661cff705.tif',\n",
       " '09ba3f3c12479946d87b0035fed30bf0f2124596.tif',\n",
       " 'dcf4dc441fa140fac51f20d108417e413a0c734c.tif',\n",
       " 'b0df68fa33dc92d74fd401ee73d4a2cbce36494d.tif',\n",
       " 'a527995b8b3e4982347dd56ec7de989efd3be8c9.tif',\n",
       " '9291149a9e0b9279dd4a2bbaf135bcc49fada51d.tif',\n",
       " '689bd1ff92c1eccce62310fef7dd034933e5e64e.tif',\n",
       " 'fa7c6e5fc0a59fbfeda43f8f65bd1a607411e6d1.tif',\n",
       " 'e799f227150704928431ffcae4096a266cfccd9a.tif',\n",
       " '9f0c52d1c2d7c46c60caee232a0a480f4522136c.tif',\n",
       " '1ce44c85feb7bdd07b945dae18bd6273cb325a93.tif',\n",
       " '3a609b7682e8648b48ffb691742840317eef5f48.tif',\n",
       " '8cccabdbf01d1058fb97cc88c44e1ed9c327b868.tif',\n",
       " '5d156d31c448d8b59aa7b5a0cecbb3cce91887fe.tif',\n",
       " '9a6158099979b177b26f9f3a2d38b149bb99ba7c.tif',\n",
       " '9562d607a1babe3536b8b116b4cd8b0f0e28ddac.tif',\n",
       " '435321dc4f75b3205c01bd181f01aceee21da5f3.tif',\n",
       " '234705f966172308cfd8ad5710953976d3c75cfc.tif',\n",
       " '8ebd023aaaf3dd1acc4dbd7b5df56582243e2e98.tif',\n",
       " '7be2767e8f4077bd4a34fd99ee1e469994ea9de9.tif',\n",
       " 'e594db36445844fd07858a89d9aae54faaa81e3f.tif',\n",
       " '47dfd82f4b3822b56b18cdb583ee6a88eefe6b4f.tif',\n",
       " 'eabeffaecfc4c549cca3a0090010ea9f1682a0f7.tif',\n",
       " 'e4aaf9980148f325bb288681f2053c26ec3b615e.tif',\n",
       " 'cbbb24dbedb68d59478db4aaebfb6a3764fea50c.tif',\n",
       " '8023ba965d601a349077a91266c03a79023e56ac.tif',\n",
       " 'b76e305858eee57503490aae1ab80a7f1532508c.tif',\n",
       " '3079267d7ebdc795536faebc3437c67c8bcc95c5.tif',\n",
       " '4c1062ef1f601d0217fe395f2df8236532306493.tif',\n",
       " '72430ac713a1a6215fab507f706b4aa1a04e25e5.tif',\n",
       " '2f71519dcf8f2a4cf306cb834370b94bcddf8a3f.tif',\n",
       " 'e4a932e4ec632966826ea70b78755c4784449c8a.tif',\n",
       " 'a203c73e6313c023dfc1fe177239816c0cca561f.tif',\n",
       " 'dc6750d76c34921c47b50c1cc02eb4e357288584.tif',\n",
       " 'abd19537cbed52448c9d7fcc016b6adaaa5d29f3.tif',\n",
       " 'f05f66908ec6cf5dd0513601facb80000aaca8e7.tif',\n",
       " '2f09dbde7a4884a55714ac85a9804a587a717423.tif',\n",
       " 'e0c3b0147db292392bc86af332b7f077c572f246.tif',\n",
       " 'ea5d7cd2cd97540b85cb6bd02e19e7400a3eda65.tif',\n",
       " 'f32286a0339338452ff3525605c9ef1304b96973.tif',\n",
       " 'c7c333e0deec6bf6cf23ca4657dea32de5b738ae.tif',\n",
       " 'f2ff019eff9e16a82891fc51aec4dfd1f7794e3f.tif',\n",
       " '19af6ddd16993b3559e3f98d21f088f874122f03.tif',\n",
       " '38357cef53d37119f5a15ec909f8bbb72bf8a8f0.tif',\n",
       " '38f48c18de7d3d8c859ec800e0eff4e5992453ec.tif',\n",
       " 'c8eca0c74623357ea35f5162e65f8f152cfe03ce.tif',\n",
       " '9fb61b6419265aeb11179e931832272d41dc3aa2.tif',\n",
       " '4243d3f692e1b57105137ed5fd711b8856a6a5b6.tif',\n",
       " 'ff419d5e702a7a291f465c8e89913fa1c8554d08.tif',\n",
       " 'e1e11b34ce6ebe0f0a1a2347a1b4a913cf913317.tif',\n",
       " 'd2c7a1ed90c81c0bd4db3d55725aa15c2bd3e548.tif',\n",
       " '710f918c8fff5167ebe2d75efcd6b0162a57824f.tif',\n",
       " '293fdc1516dfd98f3548d84912a18c44ce046d4d.tif',\n",
       " 'c3aa4ef6fe0970cb471df34221f8856b495006ff.tif',\n",
       " 'fbee7b96b7576f25c5e14e81f886cf0814d6623f.tif',\n",
       " '0276d3a5a2cddb81b3811147d0afedd39ae48eae.tif',\n",
       " 'b817e748f51c74f09ad9775cf76da6265afc4b2d.tif',\n",
       " 'ec4564ce24d558481f792ee76691c5a3eb204a7f.tif',\n",
       " '55142a0c08a2f315002364a00184b62b126f3041.tif',\n",
       " '375393b8d3fc7338909e7a5c99c408d84859d20a.tif',\n",
       " '1db64552500415ad19f9faded7f2b69a47158432.tif',\n",
       " 'c659678651802d4aad55fca24568e690e5e627c5.tif',\n",
       " 'd8eb184c3a610026fdda52835b1c79dfdc89328d.tif',\n",
       " '954c2de29b4c9e15921cda76aff48a07ecbc450f.tif',\n",
       " '0cec2f7171aab328841e9c1c89f0cfd8425c71ce.tif',\n",
       " '4c611291a794d61d0dca35cbac7b3e1126e97607.tif',\n",
       " '9e4f10a7674fd59d146186b65f76d0517d9e61d3.tif',\n",
       " '456e68e508d8c6c5e04596f3a89f951afacd78ce.tif',\n",
       " '4354b3616862e963e84ad71d87f4ff2edf3e4057.tif',\n",
       " '8d042aaff9f4368766e94b07d213d606cc84ff20.tif',\n",
       " '241d983bd563b14b12953158726c11051bc40b10.tif',\n",
       " 'ca5db65146bc2bb29b7363045a46012e7f284c1c.tif',\n",
       " 'b4f9c016891bc96a16a53f0ee60bc70e046920ae.tif',\n",
       " 'adc53635814e603567e22c4dc547e8080dd484d7.tif',\n",
       " '8b0aef2b9ad5f01083cc86e3015ab18c203a15cd.tif',\n",
       " '526a0480ee6fc94137f536b5d82ea71c9697d82a.tif',\n",
       " 'eb609f29fceeef247cea0804f6fff93fa2cc6d92.tif',\n",
       " '26062c17451bf61e9c3da6ac8f3520d2671c207c.tif',\n",
       " '8dabe1ff6afcaa930a79d4674133c16a917c160e.tif',\n",
       " 'af7edd18559bb0ac2cd05f3b0ed93af9ce1d2bd7.tif',\n",
       " 'f78396b549204a42ba4f975429f080061a5708e9.tif',\n",
       " 'a61a1f47d7eef66f124f338ff5c55b07edc47415.tif',\n",
       " 'dd2a108ec2129f3c4fa52215ce11619413ff608c.tif',\n",
       " 'ddcfdb78c035dfc9cd5aa59b9cb11833a2d96e68.tif',\n",
       " '5ea38ae3bf69d89f1d164a53d5496db77b5e38bc.tif',\n",
       " 'fa31b9403715f1da13d902196818feaae2f77574.tif',\n",
       " 'ec71890ccb0fd05ed9a0a2e63a1b8f3d665a0279.tif',\n",
       " 'b4eb14307d3dd71474c211317630167d04b1548a.tif',\n",
       " '9ac96a48c35ac91f08cfe0c6e129143b8bc053a5.tif',\n",
       " '6b3c6f43db0db8574cac2ef981f800d1c0f3dfcd.tif',\n",
       " '18a59ccb0f77e9462a029a935af34f44875d8efc.tif',\n",
       " '3b0eea4b50eed5356f643411bd1e75dc4342dd10.tif',\n",
       " 'd6a7c0097ed5c72bdff4624cbb8acdebfb176a05.tif',\n",
       " 'e7e70e349278f6f6376df0d33aff9e5aee8c982f.tif',\n",
       " '57b57eb2d54f3d6f0b086f574dfaf4373c6bf3a4.tif',\n",
       " 'f102fee64876758c91a1f05b647c98cefc71b939.tif',\n",
       " 'ff777c7be00b14304833f53f341ccebafa6a2221.tif',\n",
       " '79d851d50b7bc17e5f9e6b1df4a9ff783d3c6403.tif',\n",
       " 'aa6ae49812d8e5dfe7fc1dbe822fe1953b84b145.tif',\n",
       " '67f9497196bb48766b911c368a9093148c9bad3d.tif',\n",
       " 'd23ac89c841843dd138a929448e59cf1e3fbe93a.tif',\n",
       " '0d08fe5d309631f412cb86208698b2434df6331a.tif',\n",
       " '9613abac86648a0049936900013addb578d5ce09.tif',\n",
       " 'df93414e35ffb27f948966f6a82b07bcbb39f03f.tif',\n",
       " 'f1863526e10b9cc587d6edac48c9374ac443ec90.tif',\n",
       " 'df6dc245fc3c72683c23e42e8f553f0145a9d7d4.tif',\n",
       " 'c6f0b544d25d663406771f24a9ced25cc6bd888d.tif',\n",
       " '739382eda61084ad82e1b090b88be4692c7e1a61.tif',\n",
       " '294ab7cb526610244dbb51cbe94e23cd1978af7b.tif',\n",
       " '282cd5380f234b9964783b1157463c307d17c9ad.tif',\n",
       " 'c657b520e0384d547470ae4f4700459b579fda9b.tif',\n",
       " '5f0ea5e19a1c13dd0b1e78a0c5392c973bdeb0c1.tif',\n",
       " '5c0a58da2a013261d7d40e30322ce59ec8d26813.tif',\n",
       " '1ed9e0f7c5bd1329fb5dbca6725352c58c934728.tif',\n",
       " '319c547c2286763d7ae9fa208ebf615288b00482.tif',\n",
       " '9f9c655897d40e0c49b7d981ff86e2afb656893f.tif',\n",
       " '604484cc1b05519f41b8d720359f19c587a3de68.tif',\n",
       " '1b18b72defb668a9d3bca497c55367f60b9761c9.tif',\n",
       " '028a669730f21f19188a70ac7e2abae7dc3b2def.tif',\n",
       " '447be6835deb78c6527c9880efb0afc6eb280774.tif',\n",
       " 'e2d7a0edd9baf5b898c3be5f2fe43be317184a05.tif',\n",
       " '29d74ae19fccc2126556dcd26f7a4762b94a5be4.tif',\n",
       " '5bc4c5a0af34ecc89e03d985cc23bcdfe75eaa56.tif',\n",
       " '0c3dae5de204d58ce9649e4acfd59bbdaca6d306.tif',\n",
       " '0ebc8d1a5f68015da2b272637f4d3b16a868fe1e.tif',\n",
       " '41ce9d5d5da5ac5eb96bb5703e5510e46e31d4d0.tif',\n",
       " 'ad78fc8a4421895af301ce45b746acb5f1cd9685.tif',\n",
       " '53b14f7590e051af624f6672b75dccffee28572a.tif',\n",
       " '6e0ba5142b90a9ca93579dec41e64735a7efee57.tif',\n",
       " 'f1c9d5db695761babf29d95c29befb687b75683b.tif',\n",
       " '4aa1679fcf5ff41e6dd108cabdd1583b654c7bdc.tif',\n",
       " '06c9e51abdd0049d32c85b58900b92c168297317.tif',\n",
       " '15a8ab23d4ed1fa4dbb1d94f4fdcd5f3dd9f6b98.tif',\n",
       " 'd70693af87a8f3fcb5ed0f99a87460ac9b23b908.tif',\n",
       " '1e517c3632037ab648de24dd374e7b99f7c5842e.tif',\n",
       " '5e9d8dd2fbbd5d76b6f87cab298c3370b9940bec.tif',\n",
       " '27837e5be5ef0bceb89c2b515cd75b6ae710f2cb.tif',\n",
       " 'a554a31e5b413c47722ade343215ec0b4c654c4c.tif',\n",
       " '2d8a2ae763ccec2199afbe5dede36c5b6c3c73f6.tif',\n",
       " '993ecda49d42ba3f06ef10071e4228c911a05a5e.tif',\n",
       " '5e8775fe53515fa42aab1f75ad5172052a181ca7.tif',\n",
       " 'a830dc31502cbdab4bfee5d01859e19efedfca2f.tif',\n",
       " '5ca21869ccba7df6be91f1566c39f30e8ff48699.tif',\n",
       " '5cd779541099681a9c1a785ccc8a986b7d2a012d.tif',\n",
       " '670aa13b04a99944de98b65db987003146e1600b.tif',\n",
       " 'ad579cca3ddc352882c928f12172a1b81b0f661b.tif',\n",
       " 'e500514a568e2dfdd9b84869852ab70e0b67618e.tif',\n",
       " 'f9706815852cdeca41fb1c554ee0a0bdc40ff467.tif',\n",
       " '8b26151cf6c46429a021f305305a6c0f1c7040a5.tif',\n",
       " '12999ec3bf80bede466f655a1f0091676b83e2fa.tif',\n",
       " 'de9c44f6c05de252dae0dd469f64f9edf8e436b2.tif',\n",
       " '82b440d3bd84095671ef1cf995ed9ebe28c49393.tif',\n",
       " 'a4240076040a5d76172f1f5646714cebd107e59a.tif',\n",
       " 'a4f26620fc3ac3f3e1b5dc5ce9d3dec42d447355.tif',\n",
       " '1e13a0e9947e3929e8510c6c7c377ef1d351f3b2.tif',\n",
       " '9af9167e927eaf674280b423915bd7e2a4885615.tif',\n",
       " '7cae1b50e5f49e56fd3a8a9ba5b55e0f5c13b70c.tif',\n",
       " 'a0630c080b143d0420257d03e22a518370f120ed.tif',\n",
       " 'ffc93123b56964d95afe36293f67170f5e1a70b5.tif',\n",
       " 'db7598fdc71ce4fc0f6f5f08bdea155f93392c23.tif',\n",
       " 'afdc46d81dd8786a4573a2a2212f5f4a8f209481.tif',\n",
       " 'd2eab8c2901b0e23dadc05a792f3a66dd2b3b317.tif',\n",
       " '5a92522f0e10d6798700955ba8a299ab08563c59.tif',\n",
       " 'a3db1e517c1cb65a27d91407c0666f90990473f1.tif',\n",
       " '965d33eab5ca0fe539b6d6bc53613cc385966dbc.tif',\n",
       " '9bf1e927abe2a0f8527995ec9b7cace8f6c1adb3.tif',\n",
       " 'ec3753704572d57f917416d2f004b06236b67b29.tif',\n",
       " 'b3966ed25c9798f19a0d0df89f2a81d9d506179d.tif',\n",
       " '5563116a3064f22a3fb9cd144ce1f604f6dc542b.tif',\n",
       " 'b73cc21b70d5b11421a17785e8056f2c0b05237f.tif',\n",
       " 'ba57d62299a9e6010c5c00aced0bc5a1f4bcb197.tif',\n",
       " '6c6e300a2224e811cd7baddf3c74dd8aa35f9c28.tif',\n",
       " '888b053d33be1458e7033b62bc3ac46475c60ebf.tif',\n",
       " '8a9bb307080e9a67aa77b7fcc3521cf9c0089b5b.tif',\n",
       " '923a2814bf5c9b7c1ab9b337ed63c38fbe410c73.tif',\n",
       " '3c50eb2fb3aa8d05ccc2e4d805ea2341964fed73.tif',\n",
       " '28a8586ffa33eeeed616416364abe49d09658f25.tif',\n",
       " '6c9f264465bd12b2a70a0071d955ac8b70122b21.tif',\n",
       " 'a356a28d9c30b358b65b96500f53a1f7212dd48a.tif',\n",
       " '436ce0df13fbca35aaf300aa35d51839655cb9c7.tif',\n",
       " '31308bd32fdd78816dde4924235e33b09456a386.tif',\n",
       " '4bbe0485fc2be4274f6b9232cc0bb6c6b52fda50.tif',\n",
       " '3c57f7017bfe60c6f36fab1038c7c961fa8fcf1d.tif',\n",
       " '14bf1714b8f2658962967d49cc40eccd43b8748a.tif',\n",
       " '8f6558ebc0016f2dee8334b86b512186a879f62d.tif',\n",
       " '3b0fa4e64d0ee30d46705b790206137d082b39dc.tif',\n",
       " 'ae3a719a633cf389154bacb8e69e6e9739c44195.tif',\n",
       " '32bf753b0e1b1b5e3a5a8b9c39512468cc183da2.tif',\n",
       " 'ef44be1419db5b0acc52391e2da2b7ceaca2f6ce.tif',\n",
       " '7505005ed01cd42bbfc663f38009cb42187f370e.tif',\n",
       " '001f1406370b27af6e528f62c106ef4e1c295317.tif',\n",
       " '941294634ec87983c5cb8f62e4fed31f87139fc2.tif',\n",
       " 'ed6e547497529633dbed513ea97316dc2d141bfb.tif',\n",
       " '05efd9f58f7120de7fa5bea0376365787ed537bd.tif',\n",
       " 'cd572533d6017cb57bb3118ef8caa55d1605e0f6.tif',\n",
       " '1fc364afc06fd31c5e470086c52699eef335639f.tif',\n",
       " '08053e213515a9fffd813ba52e79caefd816f8a3.tif',\n",
       " '7e196188c914dddea6dff9149e20b2f5b191fcac.tif',\n",
       " '9bb3ce91e19ba3158ba8ff7340f8003a4a2ac084.tif',\n",
       " 'a2b14e7cec899dc9b1fad151093ecfff333f89bf.tif',\n",
       " '8dcde7e9b9260a21e641a24000b89d98498223c8.tif',\n",
       " 'fdfc67c06ad43ed2c0496a9bbfe9b320b50046a1.tif',\n",
       " '0f04bec92c3d4fc501bc2bf684df45755ceda9bb.tif',\n",
       " 'bb8ba1d83d1114ef3b69c56c412521caa54b41fa.tif',\n",
       " '25d7d867f0dca006ae5ca8ea0b8273bfc4755526.tif',\n",
       " 'ff4a8226f8639c2045e34ef227d753011a674af4.tif',\n",
       " '99527f442b18bd6aa679a0c7498977105c3eb0fd.tif',\n",
       " '3e4fe2ef601de03da1d6de6940c2aacd158e212f.tif',\n",
       " '7cf71b74f9f44cfd73468fecca48c20dcd34a51f.tif',\n",
       " 'debfe8feb0522fec4cbd8c8344bf596eb357cc8d.tif',\n",
       " 'f1f7b7037bd0480eeb1732fa86a86d92181059a0.tif',\n",
       " '55824800397070455784ead9a46327013a41a9e6.tif',\n",
       " 'a4e739e522d7c0ddd0f9feaf100947b8108b707f.tif',\n",
       " '0e60fa79ebb53d75df485438f5da85f400e6d022.tif',\n",
       " 'a9d33a26fad2d44e1c3a310ebc5e657e8b6d509e.tif',\n",
       " 'be908c80b58ccf3b58cfcb806bd9d78bd07a87a8.tif',\n",
       " 'be4c25eb1bd8cd3b4aa36d46653ecede288e9187.tif',\n",
       " 'be7cdeed76609b3bf9186dc20f72390af7b5b0b4.tif',\n",
       " 'c81222a05c063f75bc271ed54370b54dabb892c6.tif',\n",
       " '33d2d151686a198aaa5386c43bd5a7e9acf06c72.tif',\n",
       " '4da0afd8e43c4e6327cbd30c464953c29e9d1edc.tif',\n",
       " '6ffc1941971c68db1a259c1be921cb3c00a5c837.tif',\n",
       " '4f20c6760248fc6f42f985d5ee52117b7c1c0439.tif',\n",
       " '4acfb81c2cee16523c615fd97dd37ff21f4d2ec9.tif',\n",
       " 'ff2d4b0acd4118ceb5619a61925e8f746562c969.tif',\n",
       " '174d90b3000feb2aba6aa6464ddaa6d15518abec.tif',\n",
       " 'dce06327bf10a7ba1f53917e016e3e4dd0d7ea59.tif',\n",
       " '0ebe490f6b4974eef97c8ce60fb26e8b0fcdbe2f.tif',\n",
       " 'bae7eff1d0b641260e7e83358ae5d21ddf38d262.tif',\n",
       " '0163fd9491c50269e71f06030751a6e88a52759c.tif',\n",
       " '499505696e8b635fd7a7427e4f76a8eb5548b03b.tif',\n",
       " '9b27c4f4088f0651494ea98f7556a53b1ba5c173.tif',\n",
       " '667d07280435f7d8c9f0306ef914731117b0b9ff.tif',\n",
       " 'd2f37e389241640cf9c03e3a4b843a2205e36e6e.tif',\n",
       " 'd09680f8fef531aa2bc8b8d1d3c9595085db2192.tif',\n",
       " '9aafa13733ebbb42f942dd0afd75d6ed940b40d6.tif',\n",
       " '3e3b450c03df86d6f2b337b2e5806599259d5591.tif',\n",
       " '03ab32e57962657c8796052500c1c0ec7a774220.tif',\n",
       " 'ab87e6c19e03939e80f2b3cd2d7195c1580741a9.tif',\n",
       " '8417e261f3ac9758624810fd5817380d816f91b0.tif',\n",
       " '59a52ecb43d25a3fde0897f2f886946bfe81e6de.tif',\n",
       " 'ef577f169ee7edb138181ad095ed63640649b571.tif',\n",
       " '65fbec1e5ef54b366f2423511b5f10aaed1aff38.tif',\n",
       " '96f1f95974abc7b39928c894c3c5d968328ea2f8.tif',\n",
       " '0ee6d6152a80ab565bdce2fafed7034253114636.tif',\n",
       " '387b05481bb40e1a9f9dbbbbc4dd5e1b669c5b87.tif',\n",
       " '4cea468efe9bd9ad07244ee7f74fcc5e4335b8e4.tif',\n",
       " '90759dd0f9a27c53f0467fe3cf7f1fae3fdb8b09.tif',\n",
       " '70b8b8a5bcc7efa0edbd2ea2841cb116147cd2d4.tif',\n",
       " 'e6a9fa5b3e3f70dad686b31d0feb62c3bdcfc78e.tif',\n",
       " '32578f9c6880a0fe4223d37cda9ca63483dddf19.tif',\n",
       " '65aac60435ddb5d25c6697805274e549d3e1dce1.tif',\n",
       " 'ea926640e784cb008c57fb5238a8182b8a21ca27.tif',\n",
       " '83ae5014582188f8915b27a7872bb89f32ba0b7a.tif',\n",
       " 'f3f35166f036e0b01a8089f12a73ca19c47c03a7.tif',\n",
       " 'faa635cf8008079d3468a1fc6d542d7a19e56820.tif',\n",
       " '93504b1ede4964cd6063760d9d8c4b8d3a12e00e.tif',\n",
       " 'bb79146fc2a3b64ba371206d3b8e846394e3995a.tif',\n",
       " '6a8ff1da86de4695567710ae14d2a0b6b910d7e4.tif',\n",
       " 'c727040f4acfd10f5b36057ac658200a31c4b5eb.tif',\n",
       " 'e7529db0404fb0debe1e64f41b093859ea457818.tif',\n",
       " '96c001699d1be7562d56630aa2b29541af83e1eb.tif',\n",
       " '963e191fe2fd5c2b5d8beb32255df2d12a46a9a3.tif',\n",
       " '8fe520c79f26dfd9777833a50ce1bbaf4ae12755.tif',\n",
       " 'ed51441035a0b4df9863785fea5407bbab041920.tif',\n",
       " '323a816c2a647bb4104c7ee1d616bcdcc474abfb.tif',\n",
       " 'ec211de88e11182d465e8f8c1d88d6366ff66a5a.tif',\n",
       " '39f16a9fb750cf01268109bd9254655b1f54f925.tif',\n",
       " 'd4ca6f52b93cc7c9902db511f866ed3de0ebe039.tif',\n",
       " '0ccc444c6e979baddce6144f0001cff07949fc3b.tif',\n",
       " 'b364951ad4cf8e11ee8cca4b46d3a4961099d022.tif',\n",
       " '934511a2e1ce05d67005a4de3d0b76000587a7ff.tif',\n",
       " '15a79d85ca140a348988f36d646cb229bff5d804.tif',\n",
       " '721a4f01d5ce12f3487f63af0869a7252d687f93.tif',\n",
       " '9a2c559e4576f0ea21e3e4d63183f879c3033803.tif',\n",
       " '034a2cdfdab89ef963736e41895d84559ec1d34d.tif',\n",
       " '775a8089fbf2ae5628a1bbc822455df19fad4c11.tif',\n",
       " '181bc16632ce2a820fe2ec7a298ec1c2236b2c69.tif',\n",
       " '4c502646afc671d081a789b5999dc147e8722be3.tif',\n",
       " 'fd3b775cfad5faa3444a642d59e15f661f6cf053.tif',\n",
       " '4b35ca105f97badb6688ae657d7aaf73bbf59b24.tif',\n",
       " '85bb5239e3b157850456f60472dfa60f543afbfe.tif',\n",
       " '98119dff2db366025e4e480410b7ee07ef863985.tif',\n",
       " '4a640a856d440a7d6f955ed84e93ad56a3c83139.tif',\n",
       " '21ce6f80fb6ed84e7da8971d677e36da30e60fb8.tif',\n",
       " '7f05a9a71e72dfcc52f4740e50a72a59e98a644c.tif',\n",
       " '73b31fcca1060752216920497110cc825967a23b.tif',\n",
       " 'fccf27874d68fb197e919d8fd39e3b4af03ea0be.tif',\n",
       " '4ad98564e18dbf0f619fd74f142fddb619c747f1.tif',\n",
       " '790a26ee8d03784e800d74193ed526c59f0c4002.tif',\n",
       " '8b9ed352d57bdd44928ebc6bb0a7e6d9669098b9.tif',\n",
       " '2412a592933f26daf47f6a6c0b0a551bbdd0d70e.tif',\n",
       " 'db3e5336747ada30154106f4701065b7e36dfff2.tif',\n",
       " '8250119fbd0c127acb2847d8ea235cd40966ee6b.tif',\n",
       " 'd944f99316b2cd789c9c0b8af4ee106faf1ea211.tif',\n",
       " 'b782120bcf1d3fc2a31c48b56cc76630f1d9a9d8.tif',\n",
       " 'e73dda295e5d44f5074f915977eb73c1d2985ac9.tif',\n",
       " 'a30662105134770d0ba022e58104479223ceb622.tif',\n",
       " '38fd240ab512f7e513ed79994bb06b5fe7df18bb.tif',\n",
       " 'af627a3224ad83aa1953a2434ddfe0698e348cb0.tif',\n",
       " 'a4346f64928d3f4ba9097e3b7df252818c965e5e.tif',\n",
       " 'a813606cbc8cdcdfa917c928d437c60169900020.tif',\n",
       " '4ee240dc62021cc3b9bcadd13c1fcc65638c9202.tif',\n",
       " '4f785b82f8e62292eeadb520bfdd1f2221ed00bd.tif',\n",
       " 'b68cc16991b3738484e98f07617aa38a49def50a.tif',\n",
       " '5f163c16266786318d39f24782baa6321b9ca040.tif',\n",
       " '160288f9f8f056e9ae8821626b42f9d85307ed55.tif',\n",
       " 'a8cfca3e8a588244942fd65698d99d7a95d81ee2.tif',\n",
       " 'dfd459e00b28e9e3f6dbea3bf6b368a4251bb32c.tif',\n",
       " '2bb6684465a425b08ff7028464e968dd17288a8d.tif',\n",
       " '0b0cb3b2b0a995aff66f7bacdd56d9bc6edbd38f.tif',\n",
       " '9cbbc2a96d27468974628c8dff75490fd6ad6375.tif',\n",
       " '8845f3dd664844ef8d55e789570543a03d849551.tif',\n",
       " '13fa483bba507ac09f614866b10c2ab6dadba673.tif',\n",
       " '44de30cc065f33d6202dad1a7b8a4304090d64e4.tif',\n",
       " '7b62a66b8a9f271d4cd2e41bd3f9713743d174ff.tif',\n",
       " '97574f6cf65e68273ee67f882e747474172eb977.tif',\n",
       " '54b50d237a44f9651d6f81f14b189a440eb1c755.tif',\n",
       " '17d40ec9e9b936562f44f27c76cc00a64241b71b.tif',\n",
       " '8eee86673ff4a7ae7ddbdcea9617c0ea4a865b75.tif',\n",
       " 'd3a686fa20f93b1e00f18e8f6cb025117884bf4f.tif',\n",
       " 'e14528b54ea2b5a98eeed9603e944538612d021e.tif',\n",
       " '28905d26ccfa6d1cfd8427d5d75217cb65d41691.tif',\n",
       " '879ebdcd0c7ee7b83cc70b51bfeafbbb7aef7b22.tif',\n",
       " 'fd29c1c40055f135a9e8ce2cae3350fb432bce7f.tif',\n",
       " '4f4563072ea7f5c6fdb10f2618113bcd9f05310d.tif',\n",
       " '16b104571bb3521e8eb0fc9c8d21fdfb5d2da287.tif',\n",
       " 'f3caf5ebc357c516a7b41cb8766d876f0dfdda3f.tif',\n",
       " 'e6915cdbdc65e0058395021dff491d13711d7542.tif',\n",
       " '524ad294d6461632fd4890be8053d756a1449f5c.tif',\n",
       " 'e8c503f13bb4664650de972094f02a93b8e4ed77.tif',\n",
       " '3e28b36453a451149008fd145ea53626c608e03f.tif',\n",
       " '76148184c34f99c871871391639ac60d1f34f6b9.tif',\n",
       " '3527871966d389831db8067ff47aef7bda2e8900.tif',\n",
       " '72044541fe190c0306a7a8def3da15308a1bce5e.tif',\n",
       " 'e0cbbabadffba7edf6ff16f58ebd6bf6f6071271.tif',\n",
       " '7031b05e0be5f486923090e1e29f85235d5a8427.tif',\n",
       " '27bbc989bc977a2817db5cd86905788ea48881cc.tif',\n",
       " '6009fc9fdc26983a4d6f7cb79f41f53a3459a4df.tif',\n",
       " '52ac0e022668969b743635974ce9d6290c6567f9.tif',\n",
       " 'adf687a3cb7e9497d73b8c528f152acbda428b2d.tif',\n",
       " 'f3c20cb181fa43988313b23f2191b2ed011aa7ea.tif',\n",
       " 'cd592f9b17ddfe8ae17127e1ca7cc0718444284b.tif',\n",
       " '65354199363508de98cb09a540130e0bbf781331.tif',\n",
       " 'c524a0bbbc78822f025f548754bd7c7625327341.tif',\n",
       " '9c0d61ddd9f5558b976b3248ec70c9c948eeba4e.tif',\n",
       " '84ad77fde2e349e6c362faef35130fe8b90f2410.tif',\n",
       " '7861159a3cf982f5c2dcdcd9f098d79e88733355.tif',\n",
       " '02ef5499433c446aebfcff85da1cd8d23656e13f.tif',\n",
       " '0f6839aa1e8d85897060c4c9e8e50cdbc34073fa.tif',\n",
       " '9f84b159ab13491e71466304474eb03970bcb5f9.tif',\n",
       " '5610405d41a55a142b51e31ef5e35b0103a3aee8.tif',\n",
       " 'f4d0583b94946b71ab34f7d71e3850d15104e9fc.tif',\n",
       " 'eb8a0323ba01d855e5f9dd58003cdbe76715fc79.tif',\n",
       " '7243dd3194a4e8983394f3b7829cbcdbccc39e3d.tif',\n",
       " '2c7c6e6fa019779bbb167d34503e0b94cd2852d3.tif',\n",
       " 'b110638de954b79431957dbec16084b7d8d1b08f.tif',\n",
       " 'c71ce234cbe88d4a614dbde7d3d7f97c7beb0235.tif',\n",
       " 'f5ab6a82d1bfed79ca42d97455367de9f3d8011c.tif',\n",
       " '7a635b03b03049a170028be24e77e7a5c2c34fc5.tif',\n",
       " '0bfc29d7793ec9db52d2e5112ce2aacb004ac541.tif',\n",
       " 'c38ea04acdd32c342d0dc081b410b019f955df65.tif',\n",
       " '51be8a81308f248623c7d43682eff8ef0f2f36e2.tif',\n",
       " 'b35aee547ea838ce55f4eaf06481d752f6971877.tif',\n",
       " 'a642acea3c0098793d89f65458b941e550eecf90.tif',\n",
       " '2b33afdc8a02881ff63af416418e7cae1aacf028.tif',\n",
       " '63ce1bc2f2a5f724aced315cc311857a13fbcd65.tif',\n",
       " 'f77edc7b7c9833c24243b9cfc5b50a2042e7908c.tif',\n",
       " 'afd96147699659a68fa6473ef98aa522da8beef5.tif',\n",
       " '8eb97552ef123a89094b525b9bbe39102ca3b17f.tif',\n",
       " 'b583f0caa27f4710f0ad441794286d5a1a515946.tif',\n",
       " '8b7621cff5f6fdc0be37611fce2af4f8804a76c8.tif',\n",
       " '4c00c7a51723ad0ac543d3e71983e42cc84e4b50.tif',\n",
       " '1316447a302468c1df82c2cd33cc17d1b2eb72dc.tif',\n",
       " '1a0a495bd98478088e24c223be91a916cb8ed77f.tif',\n",
       " '1286a287537de0276e8eb28ea782a5c5abd763af.tif',\n",
       " 'a69ef7ad5c61e7b6b441e99bdb68e2a812e6d3eb.tif',\n",
       " '7d6b2cd806c0e727230b8965e014b1b1dbb28b1d.tif',\n",
       " 'da690d7a7efc20d6688640268c097cfbe03bff9f.tif',\n",
       " '6a93b9f8d833b6d7abf92819a4e05e42202ee9b2.tif',\n",
       " '53c73bb313ad4645e42568a0941858e9a9e53515.tif',\n",
       " 'b1ad12cc8251c0e9cd1118c87e42c45189b5992d.tif',\n",
       " '4444fea45ca68c1058c820e263664a73ee496d66.tif',\n",
       " '9c4f7862fc7452543482823b4ca2244f19ac6bfe.tif',\n",
       " 'ae44c5a10ea7c1a17f8843a0e516aa492de3c2cf.tif',\n",
       " '79c1bcdc147a34312e47e34dfc59b5ba6db2808f.tif',\n",
       " '2f66b9bcd1666f98a5ae3aaf7da7f4b555e0f7ff.tif',\n",
       " 'e0446ac2267ca1433066d89d7fd2b29fe90cdd7a.tif',\n",
       " 'b31000da7a6a684ddee1cbfc7b19ae94d05f985b.tif',\n",
       " '40b47a188220a60fe24196a82deefdad9384c05a.tif',\n",
       " '5048179d63ad0b0edec64914f338f9368913d26e.tif',\n",
       " 'a8a484a63bfa8026119dadf2cf6cd202dfc8adcd.tif',\n",
       " '6d46480b2f26bb6f5ca2aa5424231058a3c883cb.tif',\n",
       " '16be5d7bf20eee5fb06d52ba5128306e4f58bc94.tif',\n",
       " 'd9616084e2957be77682398aa644e49dcbfa02a5.tif',\n",
       " '8ce97a828a2bc286e9cc1093383fa2acdbd095e3.tif',\n",
       " '8870b2ea1bcd0ec02b1bba58242c952787a4b69a.tif',\n",
       " 'a0842dcc08cc287299135b5c766bf46e44a4a072.tif',\n",
       " 'ed4f8a31175c34c7ccf75dd0d445d6becbf7e2e0.tif',\n",
       " 'fd461985aabcb16527b784f1d391c40524ab4d7b.tif',\n",
       " '595397290bec98b01efb8c84651c384aeec75e31.tif',\n",
       " 'a1c49e08211a9bf84aa06f03bc405e95186a126d.tif',\n",
       " 'b9ae501495d5f1d0d671fafd47514f7f42644a28.tif',\n",
       " 'b8d16a95669eb1342104b3589dee616149258756.tif',\n",
       " '944a78161e8b3e6ce50503589237f13d45f9b998.tif',\n",
       " 'b204e1f0dac7fe6a3a98371c1636d2bbd7e0c5f5.tif',\n",
       " 'aad2c593b8ac3b276374a44e26a6b50e6d8a7e4b.tif',\n",
       " '56a353ea6caf8fc803eaaab4f0321f730d89cd0c.tif',\n",
       " 'e5dd2a7a10d0f4f7fef5c5c79310ea87684164b8.tif',\n",
       " 'e42ecfdc033e7e6d2966741da5813ea7784b9abb.tif',\n",
       " '599a0f6691e41d601b79c2a006144990b00218c5.tif',\n",
       " '2d6d85caf52c7154a2846c814ef5a6a231784077.tif',\n",
       " '7bf51384fc5a8e96bf2d3be4e8fe5132a1eaed92.tif',\n",
       " '38c488ee02b877247aaa7b6a390f1c7c3f266acb.tif',\n",
       " 'e3558c9be685b7809f95c84af2f87daf365b2828.tif',\n",
       " 'f5414c11f857b2a5c0e86314761fb91b79c89a08.tif',\n",
       " 'ebe027d948f31c5fd10450eba8a45926e43f36d4.tif',\n",
       " '5aaba303f7d8fb5ecd95d041e58e85e63ef21664.tif',\n",
       " 'b7f532de6af9daacb7a9c14080e6de8caf929686.tif',\n",
       " '18053c4b5331c31d18f9452c3c784548ed22bb2e.tif',\n",
       " '985b1d15b834b2fc4a2cd98cd6911cad7d01c095.tif',\n",
       " 'c92186203edbc3c6e22f48232803771d4a05bf75.tif',\n",
       " '1c0323bb75ddb135eed3a80cd61cb3aeb5020fb9.tif',\n",
       " '6ef869cf16bcecd9853fba66ef26bcac3734b6ee.tif',\n",
       " 'ff55387f0f94a93a7a12f68ab01e7abc951d19fc.tif',\n",
       " '666c5e5504d9c31e1e14d69df3b3fa3fdcb809fa.tif',\n",
       " '820331959d16740f068e8f1f988cbe0fefba8def.tif',\n",
       " '73dd5d21d0b184178c7068c0cbcd30d4faa4b5d9.tif',\n",
       " 'a83bd9edda5f0a56264d40beef9bc51649bbae10.tif',\n",
       " 'bd9644bcf71a3fd6db5d90745f514cdbc7678c57.tif',\n",
       " 'fbde6b2405e290b5b629a78572f37c99527e0b37.tif',\n",
       " '8c694ec8391c748f23a20a5e7bb1515e0da2ca79.tif',\n",
       " '521462e5a88d6d8d93a6b63f77d77e6a0789cbe9.tif',\n",
       " 'a050ce6707d1e1457e53253f8fc32f3c2c933235.tif',\n",
       " '179441dbbc6473123d6cbee0473857ce8bd80d7d.tif',\n",
       " '9cbc2e419a79739dd3da45a0d394d7f2c737b682.tif',\n",
       " 'a95a2c212c7d341886d7a7b27651fbe686c155b9.tif',\n",
       " '678a484d3c2cf1dec5710764cfb095269aed92ba.tif',\n",
       " 'f440d5445267b3f216dcd71600e6ded1ecbc1969.tif',\n",
       " 'f39345e10b5ef76804714d15b315c9c152a1b201.tif',\n",
       " '47477d6611ba4c2334492e68b53e7bcc9ec0a6ec.tif',\n",
       " '4d43970bc9ed5f7e959c9896fdaa97d24ef672c3.tif',\n",
       " 'e08f83ccf058a98d12024123c7b15e2018301c51.tif',\n",
       " 'e0c959321e5ef6a00a72e8e1f6a0eb28bb1060cf.tif',\n",
       " 'a5ced7239adb89bcb9a900e7f5e80e8584d42f68.tif',\n",
       " '3a79e2557ca4c7bfc4001779c9b6a1ddd5df46c0.tif',\n",
       " '38b08ce6c564fc1fe1c54d5640bf14f958d3994a.tif',\n",
       " '15720a65dcce3e8cd5dd30f2425e15333cb443a6.tif',\n",
       " '7e5acfee6d1c17df9d2a5b162e944e4c402c4733.tif',\n",
       " '65edeb99a7add1c8502804252a83bc8ba6515251.tif',\n",
       " 'a1dc86c041f7bff3db728f39e2194a8075e6341c.tif',\n",
       " 'd73c059bb8245e52192fc315f6779c98235c9c7d.tif',\n",
       " '02990cbda90708daa92b56383a039b1e676d653a.tif',\n",
       " '5bcabcf989b883849d306d337b6f8fcbdca02c7b.tif',\n",
       " '745f4c05fe9e37573582c1cf63df9e82743bb566.tif',\n",
       " '7b954269f4bfb38edb965d977fb1f9fbe9194f91.tif',\n",
       " 'a566d20978999200335d5b527e473554e5507908.tif',\n",
       " 'cd81c0540323da1eec3220d75e64b0541e3fc464.tif',\n",
       " 'd761337c8e758fec3f8219193470170dfced2017.tif',\n",
       " '4f902904b2eabd76ff3f978e08bba20639d9eb67.tif',\n",
       " '16b544af61fee22936e21c97fb01ffc0289cee30.tif',\n",
       " '66566d423adb5f48e26c39e0892b14070fb76028.tif',\n",
       " 'a56103bc5dc70db29e44285916377c0191f414e0.tif',\n",
       " '3f1a87ce744c9c7ba0ec9e433aa585ba719187e9.tif',\n",
       " '9e1ede6cf32dad0e79358f61de9d8fc10142132b.tif',\n",
       " '523e41b6b3df38025f329cb3cd0c397b7386ca71.tif',\n",
       " '082a747b3b4a6e5f601fb2ecaf0943c5eb1364f0.tif',\n",
       " 'b378342879d0d60579631602c0efeb6e9aaf9d89.tif',\n",
       " '46a93a3bdf839a2b93fa611642e862a7c100a3e7.tif',\n",
       " 'd240b24a3336209167181fe50cc079547c2cbb4c.tif',\n",
       " '682651a1f2fa72a6fe21e5c3d1ca96bbe25e53eb.tif',\n",
       " '0cc1cf9f048c80bdf119d849f01853b0c5fcf990.tif',\n",
       " 'd8ca097552215781784ea395a5e7af8f34da6341.tif',\n",
       " 'a8a9aca5363f863598abe3727ac612a0084d84a4.tif',\n",
       " '82eae7ef5f5d86c57ae9e8d8f2cd3205fae2b192.tif',\n",
       " 'fb09c37e2f08a1c51e0616d851ffc2761f7319b1.tif',\n",
       " 'ef60dd5dc2b33877607039ec1fdc9f1b05596216.tif',\n",
       " '91fd8af208505b40d0548fe03e0f7d30be2e0a70.tif',\n",
       " 'cbde542a59d06df9a3c12f868a713d89c53cba1d.tif',\n",
       " 'fa111ec5d9e5ed8e5fc323be39c7ea3f62ee422d.tif',\n",
       " '20b29f44e22ad53969b26bd074468622aa2721dc.tif',\n",
       " '8b4eb42a9352b285bd04747ff711767492231199.tif',\n",
       " '770bdf473846c72ea35aaaa69d9ee6232bd6b120.tif',\n",
       " 'cb398382bf6aa21a5950473907e2827493b7232d.tif',\n",
       " '31e1892ccc1c861c7b9cda7d4ddb00d1172bc3d0.tif',\n",
       " '71c60187f3f720215002e9e0797428facf769421.tif',\n",
       " '137ad6aa48023b82fa9bbd2bd9c0c68a40dc39be.tif',\n",
       " 'f3928ef3ae136fe6cf7ce835206e2507a18d2a34.tif',\n",
       " '74ae9e4a4b38172dc5d885125031280b5c38078c.tif',\n",
       " '747e0ac8a9b4625940129513134337489d41b03f.tif',\n",
       " '50ecc3fefff5e1cc5bb59df263911f4cbe9cbdb7.tif',\n",
       " '5805479aed07fcbfa9ee87907d12d1bb84ea12f1.tif',\n",
       " 'b032782989c3036459981507a0b3c97703c89bc1.tif',\n",
       " '664b4c2724a7d32a7cf41a9eedb9c5b6dcd9351c.tif',\n",
       " '1bb21d7c98818dd632e61d41fc7b904f45bfdb40.tif',\n",
       " '0a62eefd9703be098729d7161de56dc03315a154.tif',\n",
       " '68996011283c06fbdb6d6bc55542824fc1c1711c.tif',\n",
       " '4fb4617086d2008ab3bd87a4948b8cfa6384f33b.tif',\n",
       " 'ea472989e5cab515951fe89912ebae4ebadd5852.tif',\n",
       " '2a1c562a1f968c8f432dc8a0054cffc758e0b1ba.tif',\n",
       " '507a2714b6e3e6419d83a97c53cdaa450683b896.tif',\n",
       " 'b7e0ab9e62cb682d3a32803037a8e23b9b6a5a88.tif',\n",
       " 'ded8bcd3a425f9157bc9477852d6126b68e04dc2.tif',\n",
       " 'f6024598bb5207d92217ca2c99ede498cf7cd7b3.tif',\n",
       " '3f1da2f712ac73ebe67159261a6cdc24d3e264b1.tif',\n",
       " 'fb7082da6fb248ce1c88e2c7cda1f28279e5ade7.tif',\n",
       " 'ebc16b51fc86135bc6d9426f25f7ef1149a8df46.tif',\n",
       " 'dee6ca96f30c45788395f6af3da45ab2efd5be06.tif',\n",
       " '31d61fd0999ceca8c0743704a5f0255cfe0149eb.tif',\n",
       " 'ee38d18461eab11695282c198526e5fecc137881.tif',\n",
       " '377cfd79a827127d82e9784458a1e519a8c6839b.tif',\n",
       " 'd04fc062e2a62b0d8a6a2d4f7566eb319426c18d.tif',\n",
       " '1f822c9b1b976a253229722a167779a8d612ce98.tif',\n",
       " '951f983dc973e66c52c6474b82c861b0ba46631e.tif',\n",
       " 'b68c0f0a2a50ffc87e6cede936acbfb81b364f2c.tif',\n",
       " 'a5db26dfbd830ec110b84fc5a9e8e7fb6ab7b1ec.tif',\n",
       " '26fa57c1e37fe9a11e6cf5b888fe02bedf756f45.tif',\n",
       " 'bf175f66db8b33eef541964c5ecd3d48237547bb.tif',\n",
       " '822dd7b4aa9036421b83c6c3ef5fd8cc8d5d111e.tif',\n",
       " '9df51a3726426480fce89afa06878182efe0b143.tif',\n",
       " '2ca9c0eae4260a7e8dfbb5c664cb254b0c89baff.tif',\n",
       " '201ba408776ef18255960a29e207966f9b591517.tif',\n",
       " 'c0622b71738220b10fcf1cf2dfadda231a8e654f.tif',\n",
       " '02a4cfbbed2d99a3274058dd8176c7949c03d413.tif',\n",
       " 'eca65939f3b62f36342e476b7919e29f64eef4fa.tif',\n",
       " '67cb67791ce24396d2478397ce5ab287fd93472c.tif',\n",
       " '831cd53377e8e9f4183e1357814c92d14af1bf97.tif',\n",
       " '2081166d05968d2642105b6fb36edb5cdd8bb431.tif',\n",
       " '1188b52bc8c58a6cb9c61f298125bdd2c5761712.tif',\n",
       " 'b7254937ac4f3d9786d7acfdd40130e49e225ced.tif',\n",
       " '29dd1fe22138730041e6dcf061f6756bbd0e802e.tif',\n",
       " '2182abe37f5e01540d13f5f9b46528d83d0a2823.tif',\n",
       " '640a0377645987248ae06b6f2d639c9213115f33.tif',\n",
       " '5b1d130b6a3673b9ae68322148f02a0c0548b33e.tif',\n",
       " 'a16e16822f5fd4df985b5abe9563fab806cf18c5.tif',\n",
       " 'b9a55bb8a5f5d0ea6ebf07e2b9e1d6490da58f45.tif',\n",
       " '9feff6c4d5b920a8c0a82c1dbcfff1912982c824.tif',\n",
       " '57031de41aa997766d89f1f571deed76b553c0be.tif',\n",
       " 'fee0d97e136250fce0647ea41df28c9be9059014.tif',\n",
       " 'f61f23ac9b32ec395d1490284ceb7284b1b1fa2c.tif',\n",
       " '6daf8a3ce25bed79dc7a3375c2af7817cd97ccbd.tif',\n",
       " 'b4ab7cb02465677330bf736d34ea86d763e3dde9.tif',\n",
       " '1c1453c94545f3b51f54b39dea0b430fb8c8571b.tif',\n",
       " '7f2d6ba0d8f867865f656abcf2874a534ec2f05c.tif',\n",
       " 'aa2c03c245a582804c96b2eaa17657cc347e16cc.tif',\n",
       " '49f4a95a31d97d7a2f965b79d91899eb5a35e949.tif',\n",
       " '182b14e19f95ceac1f01f5b227c57b4f515c4f3b.tif',\n",
       " '48fc16c1d1080e50b5ad56586f62fb3e5b13b351.tif',\n",
       " '21d704dfe9563385c8f50a245c1bff7bddad2fa5.tif',\n",
       " '7d12e3a4db6150a50224a7c2bceccd9e1bb7ecb9.tif',\n",
       " '0b58d2f521d936430f625fc938f22ecff1b016ce.tif',\n",
       " 'd2bc927ff822fd0a23bd07e0bf3ea92142d81dbc.tif',\n",
       " '919c1e92b11eabc1bd8e1da169c45c9db84a5c0e.tif',\n",
       " '733a7fc9d014fa1a6a3fadfa0fc0520165d866bb.tif',\n",
       " 'f73ba9c058d1256ae47b0a482a0c00a6846ff616.tif',\n",
       " '76d99cbeb2cba4312330b05f9c5aeaec002172fb.tif',\n",
       " 'd2146257638df8eab401cb374ef599279c4f3681.tif',\n",
       " '372df0c5984387998ca30cee4941eb6e4f7face9.tif',\n",
       " '81dbab240df16fee904c74c118a740f382c2c13d.tif',\n",
       " '82ca348c9148764ff12d9325efcc9eb7d11201c9.tif',\n",
       " 'c8bf76f374ecf54eb8313891b460252d1987a5e0.tif',\n",
       " 'e139bb8426683ecf71559bf7dd387a44d22f1538.tif',\n",
       " '8924152f723b87bf4e180563e77b7765062fbc95.tif',\n",
       " '41586f9a4798e93eb284478b33bbdb3827de7875.tif',\n",
       " '2c0acba21b09c2a593d8c5076873e742d9fc3830.tif',\n",
       " '69be1f72a8d4acac3b4334e4376a4d73dd056fb6.tif',\n",
       " '7ea5bf10f7f3574be0cbab7998a817998b4d7d48.tif',\n",
       " 'e6de37c64bd5a636031db1e3edd90789b551128d.tif',\n",
       " '0cc36d4e45df2bf39eda116c35ebc058f06a1298.tif',\n",
       " '19fb9a9c30e1224a28ee941df00d206476a6c7a4.tif',\n",
       " '9454010f87acb14f68b5e0607b2712e7425a47ce.tif',\n",
       " '2103a157f4e9e083baf9cf0ea32b399656c72ac9.tif',\n",
       " 'a9aa3a88d1c6c1222e144bfdb0778073a4daa0af.tif',\n",
       " 'b01838b7922891b1ada21661f9a54737a67cb068.tif',\n",
       " 'b29a76b9cf6c4c4d804886097a9ef7b865e0f30c.tif',\n",
       " '97a3aa95ca9d46820dcf444b8307846834090eed.tif',\n",
       " '182947ccd7a7a2d2112f4e9b017075af25e938ed.tif',\n",
       " '8a3e7f7cd83243fc62a7dffae1f96abea72f7555.tif',\n",
       " 'f26895b9af9b7cddd7df455fe1926a2abf688b97.tif',\n",
       " '86e82552c2d905e832f354f4d01ea37b56e71bbc.tif',\n",
       " 'df3efaba70e86c2a803850dc0cf1e2eb362d94d6.tif',\n",
       " 'f3bb8685ec253e8d523d356b825896c373d5d28a.tif',\n",
       " 'febecc81c4a29acc5dcaf4f894a89da70544a1d0.tif',\n",
       " '0346036b8ee4c790e20ebd537e97583f751a36f8.tif',\n",
       " '5430fe2d0507a38ed0d53445f8233c4d68eb9b19.tif',\n",
       " '465cb9fcb8470d968788188d31504e1ca1eab162.tif',\n",
       " '4e1c2377af69eaabdce27716475629dd0bf7aba2.tif',\n",
       " '47d6ec9c986a89bc9ed5bae49d85be2f1d4f15f4.tif',\n",
       " 'ace432e55a9928021edf70f0a0771054f684b12b.tif',\n",
       " 'e4208c4b893552f7cf0f04149db694ee72b9cd06.tif',\n",
       " '8631483e376791ba3de11c49efb46045918ae9fa.tif',\n",
       " 'aed33920dac44b9cc403939d880fe66922e4038e.tif',\n",
       " '3ee15ba8de8be4cc5c8cda73a21271d63ca64693.tif',\n",
       " '1a1ae776676127978065fb0e615ebb71b4232120.tif',\n",
       " '816725efcabffaff68c4af2b38b57c5249c1710e.tif',\n",
       " 'a6270b241678d5fd8957b71672cca0d7b2c7a3b7.tif',\n",
       " 'a97a863823789e1137691448619a8f267880ded8.tif',\n",
       " '9ff80c2db70737a1ff098d920a7ca728c53b959d.tif',\n",
       " '46ac981eb2013dd230a0d63daf1deb746471237d.tif',\n",
       " '8c0c9000b4690672e40815b0d9e5112fa7204581.tif',\n",
       " '67d87c4de049fd49a2f4255f9a68d0ffa990f014.tif',\n",
       " '19ea0eb9f5c835d1085ec32d8e4fc275de04bed0.tif',\n",
       " '1d217c32c2772d634aaab03d79510e0697555778.tif',\n",
       " '3e497c7f00f1bd1240715cd938412b6491c1d24c.tif',\n",
       " '0b1be342abec70720f981d562b5db3d7b8c1aa21.tif',\n",
       " '3ebe9223a6b7cc63a2af0622b3577bd779ea0794.tif',\n",
       " '7f4873d84c44299900c93d391c89a02ed6ca1170.tif',\n",
       " 'c1350a3dd6223fd494f7a3922b9fec4f915f44b3.tif',\n",
       " '7c0cec52c471373552b6d90d1df397510e22c963.tif',\n",
       " 'b4426658c5fbbb50c4121f2d1fdd30c27d124a99.tif',\n",
       " 'd13f1c08e2b8a8b8c8c78990f7df6141293a5440.tif',\n",
       " 'ee6b1ab412265453c561d380463ff3cbeede8d3a.tif',\n",
       " '73d03731d952cab84ddf089cde9bb12b62f3f565.tif',\n",
       " 'a7c54da9bae1ed146eb3d60a48da5c43a6a6d7c0.tif',\n",
       " '2f144236500dc92d3c9789295fb5fe902c7741a7.tif',\n",
       " 'e001dd2495e1f2900f5d3ea5d5e5347555c9f27e.tif',\n",
       " 'cf6046ef941327e55e41b5e5e8444b87d24034c8.tif',\n",
       " 'e8b30ee01ecf9ffb8d467558574683182570edf5.tif',\n",
       " '783796c8042381d39b419126cb0b34ece69c0b2d.tif',\n",
       " 'b5fde77efa57c4ba2a65c10df48203546c95a39d.tif',\n",
       " '080cec1a2fb03eef6d0fe08311d3f0cf2e2eac11.tif',\n",
       " '4830ef529b835333df4972592ead1ffd22c020f9.tif',\n",
       " '04390bcfe07f5dbe6df09b21cedaef81be95f072.tif',\n",
       " 'b5c1e76d177747e87c512af5a881cf90884a6aa8.tif',\n",
       " 'da1f1642e682a1b3b4af08c68d2f532dd4716c73.tif',\n",
       " 'b32328732f725be77b702b44ddfb15b72ee670d4.tif',\n",
       " '07d30731027f3bc90939a45d207c54c198173529.tif',\n",
       " '2231e3dd21f4352742f0082ff74ace5f704a6be3.tif',\n",
       " '3455cd17933d0733831ff5184699e066b480823f.tif',\n",
       " '1ae15345041b2cbe1155882d3b9a9a61d29035e9.tif',\n",
       " '68a833f4acce256b701d86d463cf76e73d4d132b.tif',\n",
       " 'a3dd83fccb4b952aad22e3762d331a587a3cf5e0.tif',\n",
       " '44b89d9a50ee3c33be87c957a80a75f4827b7726.tif',\n",
       " '5b3ba699d587dc1ecfc7bbea2e6bfb971d1674fb.tif',\n",
       " '12ebd6545ab9c00b628590cbeff264e708fe1ac5.tif',\n",
       " 'e101de086a5bdc09613ecfb864237e0150a0f3a8.tif',\n",
       " 'af2684a75c20da7156aad69dbab9ac48dfe4e9b0.tif',\n",
       " 'f7ac65e3be9a0262dec8e491f08acd79f38cce51.tif',\n",
       " 'ca7d4fbde7afaa4c18c8eedb2c6de73c9daf92c9.tif',\n",
       " 'd690c4e218b177a59cfe1b50b5f0a53bf22e3c94.tif',\n",
       " '79d7fd54a01c6ba56c529a6f6e9b8cfc993e2649.tif',\n",
       " '3d8bd5f64413cc43901ee9dd5893c8e236705e08.tif',\n",
       " 'ba41c64e533f85b1ea7ef49ed4c3a06df73a54ff.tif',\n",
       " 'c22f2e993a9d8b2de45652129cd4e696419689ad.tif',\n",
       " '4136551cef577c7da72b023d9f744cc5106d9415.tif',\n",
       " '899bea7e4c6320afb36827978e79b8c8c4bcbc99.tif',\n",
       " '8dc08b595911a645f67bc3a5d6048cca2ed09985.tif',\n",
       " '365b3d181cc782916dfbba5ed33ceae237d6641f.tif',\n",
       " '30a57d097596e9aa45b68dc86999dfc5e887507b.tif',\n",
       " '6c8156875f02f56de8a657ca1e25fa5765d87cf5.tif',\n",
       " '1ae19410d0357643b1d6c54341e8c2a42fe23f6e.tif',\n",
       " '475a105a2b88172d68bad76f947da727e3e7db97.tif',\n",
       " '651212c1752bb7634bddea005104d4ef96b5de34.tif',\n",
       " '5fd392a75aec4584ee53fbea61509306736f9f2c.tif',\n",
       " 'e0615feedc36c86b90721646a1fc585ffbc7725f.tif',\n",
       " 'a0a1b15d0788cc9531b47348e4e57006c460c68f.tif',\n",
       " '3765123a5efd034f13e34ae5900b56c3ec876f98.tif',\n",
       " 'fdd7ea1cfd88bb88565583c962777dc0d4f0618e.tif',\n",
       " '52279f1f3b694458592492e7fc1c9b65347b647b.tif',\n",
       " '7865d8fe7483f429124b2fbba8fa63b657745761.tif',\n",
       " '8d343e1c06405d63541a03ddb58228727f7b3f03.tif',\n",
       " '60d49a526dfea56bd029bbacc9a756450d443ff1.tif',\n",
       " '9bb979ab7165fc75cfefe80e6c39f5dfabefe5dc.tif',\n",
       " '8af4484e7cb7ff2c7672c67a41d59c964822f954.tif',\n",
       " 'c645b3c403209477f4911fe3e91380efc4571800.tif',\n",
       " 'edb61ed6f44a825c6c326c37e7e41bf83d4b86a7.tif',\n",
       " 'abd677602f347c28de4a6dc653c91d2277eb625f.tif',\n",
       " '42f143f0d06b258774b6effccf2427677ee2b5b4.tif',\n",
       " '5dface2569b178243c2d968259a3f5ac9f2a703e.tif',\n",
       " '40e3932e1f164b77ff6e5b39ae68da58a8890c88.tif',\n",
       " '6fbc5e32a54980350b748d6d02226b671084b4b3.tif',\n",
       " '72e3c85de650282b909fb0b691b6e7d14a433141.tif',\n",
       " 'a88a2ce56588693ae78d9633fca9cb3a39120385.tif',\n",
       " 'b44b3a8dff553492faed961f177075755bc7fc0f.tif',\n",
       " '7832ee61bb88659e82bb33914e8f916f79ca9b2c.tif',\n",
       " '8f4e401a545f9eb644271b8ef1022a5a5718cfdb.tif',\n",
       " 'b5c6e028bee0ffa96e6fcb1d06de91b7cdbd102d.tif',\n",
       " 'a7aa8018746811abcc9a08ee8470db047e9e018e.tif',\n",
       " '20dae324f1736ab13d4dd04ef90cb59f1eacb4e2.tif',\n",
       " 'e7bc332bcccc3b11e16d2d8f18eaeae8cbbb18e5.tif',\n",
       " '80c232983e4b3127f81584574614f33c7ffc175a.tif',\n",
       " 'c7be1afac946fa03b8367ffa5f20f12d28cb8e18.tif',\n",
       " 'da935e59ec653e1e6a598f8f7646cb1b87885dbc.tif',\n",
       " '2f67c9a1f75ddc4c6fcc92938f930178d5334173.tif',\n",
       " '2060ed67ee24f365b05313f80e705c3fe762356d.tif',\n",
       " '6974590567702ac0a3b2f73ff2eb753b12f149c0.tif',\n",
       " '2b2bddac8b453b53b4bd2c3def8534f06b7880aa.tif',\n",
       " '8ec592ee313017101513e2fe54f079e5c4b15579.tif',\n",
       " '9d336fc8ed104c31daae00cfecb05736bb6149b5.tif',\n",
       " '8d10d6691b14f6e66eeb94287ff5bcf36eb00291.tif',\n",
       " 'c7180ac1a69dff7ac9a9e8d4e5629151b013bb94.tif',\n",
       " '1a12c0e8c97e51aa72b19196543073bbd11b230a.tif',\n",
       " 'e7f5bf66c91200e3764c89fad4f5edb52a5825cc.tif',\n",
       " '7537a6b944bed9f8cf8172660a5d3e332675d7fc.tif',\n",
       " '6bc15ce3c0025830d03af56f83d28c1dce3bde7b.tif',\n",
       " 'b15dd3a6bf44567b160f8791cb1420b33fce3bf7.tif',\n",
       " 'b7738a3ec2ece92aaa260f017db57050332409fc.tif',\n",
       " '35cee4be1989a423a31bb8cccdaaa8dca4c69055.tif',\n",
       " '7ed506511264b3cf174b73bd10f52a4babe5a2c6.tif',\n",
       " '151cd8c922b8a50f65e8bc9ae8da6a365fb87cf3.tif',\n",
       " '86235d440683579f982b4b52fac562f8cbd2b331.tif',\n",
       " '9285a160b61ca10ebad0fd5a2d4999bddd4630f3.tif',\n",
       " '7d8bbc659bbc1213da4b1bc97af69fe296425e2f.tif',\n",
       " 'db7e573006560500cbaf5275bf7c785f0f9982b7.tif',\n",
       " '54c79c0377168bd59e95f1995032f9ea54a6e291.tif',\n",
       " '5d007e923697e04bd75ca818d7a6a2dda00964b7.tif',\n",
       " '402f46c3dd6d4b25f1394b6160500e1fa3c34195.tif',\n",
       " '7abeb07ea951cbc6a0caa352a94c032f42937e58.tif',\n",
       " '8f568ef2b0cba326fe9083ff7f688b1e101213d0.tif',\n",
       " '1e56f0dacf3e4b40fc17b2d9f575bd0235d63ed7.tif',\n",
       " 'b6275578a625795928a88d1a2760f3fc339174a6.tif',\n",
       " 'eebae650d73f6d22c178a2797b1879a48b5c0d7c.tif',\n",
       " 'c2fb210209fd30a8151537da313a398957ca1fe3.tif',\n",
       " '72344404782d8dac45a4d61d85a55fac89b15dbd.tif',\n",
       " '54d1f6458e18ae3dc0d21518666a994d2df92d54.tif',\n",
       " '253b933a28eda0c1b4866c2e6b86f318d095bccd.tif',\n",
       " '5935cfb73efee3a0921f13ce24402fa84f41253d.tif',\n",
       " '14a3230e46630aaa1886faf6dcdd0a10d2de0934.tif',\n",
       " 'b6c619fe16f7eef06d9a9e1b540e801f0fa213ff.tif',\n",
       " '1290b5d56d2d29a084bcb6836016186641a8e0eb.tif',\n",
       " 'bb3bc89dd4963e1ca953aea0596f0037d6cd2447.tif',\n",
       " '43b9332ecbb98644643eefe6e5ec5fb334960d44.tif',\n",
       " '5821468639759666b1e8f65728f373983b758026.tif',\n",
       " '12ca144d1000c96ab3407b47b69d10c96cbccb9a.tif',\n",
       " '95ff589efacac53dd9d7ee4474d86a4eafd1e188.tif',\n",
       " '95bfe872fe8628d08ec13fc792ceefcce99b81b2.tif',\n",
       " '1bef7b8af92efc2a6206603755659b090f40710d.tif',\n",
       " '314375eceed36aa9a02cb37b988b5600a75f037d.tif',\n",
       " '2acb3d37e6f10c5c1abae81fbacc6b9f98e1821d.tif',\n",
       " '85e45174215deebf45120ee0090d314f9213fa7d.tif',\n",
       " '3235e6b26560be1edbb7d76893e38bcd40508ecd.tif',\n",
       " '576e3ec63f7b65d70d84d2f8dd6ceddc41433421.tif',\n",
       " 'ab9f236ba8de0471823a072cefe7355dfff9f324.tif',\n",
       " 'e40c76b7f8828027b9be16c125dc3ae16c596a92.tif',\n",
       " '9a80ecf2f19dcac91b8f6a67aaca2435fb1c8acd.tif',\n",
       " 'e77ec915b6c2238ee0eb3f7d31b473bc64af0513.tif',\n",
       " '897de1c6a243f061259837f57318aac71c97c17f.tif',\n",
       " 'adbaa42a23e89ba54c0c7922c35eee333529536b.tif',\n",
       " 'eb5ed3ec72c9de2757d6b0194d319a31728eea3d.tif',\n",
       " 'e316bae2840878725640a6a04b8a1c223ef200fa.tif',\n",
       " '2c2b8a529f6e61605b3711651a70a089d1c5d3c3.tif',\n",
       " '65d8ac10e329cbd35cff57a20d66c28143bf66e7.tif',\n",
       " 'c157464a97cd63a6194733d933e535151af5b319.tif',\n",
       " '8d9bbf32bc69dda2139854c284787ef592479404.tif',\n",
       " '9344f3de51e742289240ed9c964f3fa4c465b0d3.tif',\n",
       " '3353400402107d07badcb0694e3b87b640d03c2d.tif',\n",
       " 'c18c72fe2d46b12f0cf476c3ba1624cb9a073ce6.tif',\n",
       " 'd985ba4253d9d308ea7875a47b7fc6994094d0db.tif',\n",
       " '2755c7cd32997432e3cc9b8273dac2ecab287cc6.tif',\n",
       " '482d4f7424547fe89b2c61b22cf1282e0f979ceb.tif',\n",
       " '0525d69e5d403a7c0dd17732a81df1a20c1bc6c5.tif',\n",
       " 'c68f49ba3783396169e38459acd1796bde1f0e3a.tif',\n",
       " '65b7369a0e2d8f3d2ba499e2da599a1b820c43b8.tif',\n",
       " 'e3e39f0dd1d55b319dbfe73b389bce09374d5764.tif',\n",
       " '9ad210573ab026ff841dd9029e49830091823224.tif',\n",
       " '70f8dd73ccf310b0ef97290b52ca4e1708ca0620.tif',\n",
       " 'e7743fb78815370141dd0946c88eb47327521271.tif',\n",
       " '3254f9f793bf349db7664036e0755bca9ef7d2fc.tif',\n",
       " '08197be87d01d0af0a222a0ef8a972c2d2dc7f93.tif',\n",
       " '4e09ed0243bc781b595434d3d04e040efaed2c1a.tif',\n",
       " '97b087637d1779c4e08474ad0fd6cd4f29b17af3.tif',\n",
       " '6cda6d736b7d502aa1f8536e9e99babec1981e76.tif',\n",
       " 'eeea2fe8178bec0ea8392e1a63a5be1930543ef2.tif',\n",
       " 'f72ab525d00b82dd7434a09701dba500a8f7231e.tif',\n",
       " '83fdd6996b882f82f783c01b30f44bf2ff5d3f1d.tif',\n",
       " 'ee1d81d305da9fe5356d86a9f0338ed9dfcc7bc4.tif',\n",
       " '84d962b4c6d100cb2b7f288fbed0272c0514c8b4.tif',\n",
       " '31bd12ae4cf50be0a39fc2ad905b2d1881a40852.tif',\n",
       " '5a3188ac296d89ae6ab67e159159c43a4ad77ecf.tif',\n",
       " '1376019c9922e81bba5e23373ac5efa6d1c792a6.tif',\n",
       " 'ca664574d2cfa6a671859f3e89c07d72e2a054b4.tif',\n",
       " '8719fa07d0bc83313064b206041ea9d45e64fc3e.tif',\n",
       " 'ea9bedfdc08907dfe1f2ae4c284c426179465e7d.tif',\n",
       " 'bd2d58e0a7e52fa3e0be6a11ebfc272c49c6e707.tif',\n",
       " 'e348038f50cca708ece755869006be9d07a494b4.tif',\n",
       " 'a4f9c544427f1f02dc93f831febf6c03212178f6.tif',\n",
       " '5a7f35fe361ff265ee55a5a46b1bdf139535f4e9.tif',\n",
       " '5fe623d2353e40c5f13f2631bf94eb1cfeebf586.tif',\n",
       " 'a7bc55afe30c85fa9d267f52043d9369d16f34ef.tif',\n",
       " '9942d0f6815875c2ea9875876520c1f7247825f2.tif',\n",
       " '43de22cf483298950b78b98b27e20d57bb91812a.tif',\n",
       " 'd959bc241c1384c7d2ecf149560c1fd862536802.tif',\n",
       " 'f39ce89ce44aa547ca46938a4a8f9ca650cba15d.tif',\n",
       " '0d2bcd0c2bd640a3e0fff9f607946351758d2fa9.tif',\n",
       " '6cc203893b62580f14246af7122f99ee08e44476.tif',\n",
       " '16783d107b8eade8ef5171e2eda547d9af568289.tif',\n",
       " '4ea5ed91aae2e86fa47de135a3e8b632a3ad30fb.tif',\n",
       " '6226533aaae036050f9f2c4ea399f7aa57bc3e49.tif',\n",
       " 'caa97c84d4701a434fd0a0dd1ed93ee848e23584.tif',\n",
       " '58da997fbff3672047d4f2f78397bff969a44540.tif',\n",
       " 'e45180dd9ae815e8b0c31a37be011cba78738bec.tif',\n",
       " 'ceeca017d82b47d5978553d6495b4529083fb587.tif',\n",
       " '2e6a00a31191eb31ec82fc9ebfe316857258ba0d.tif',\n",
       " '14f1771fd849810377b126507323a99e51bd5de9.tif',\n",
       " 'a632fe45eb2a78973a4ee9435feaadab63586e93.tif',\n",
       " '668d03df8099ca75706233fae79af43cb221b406.tif',\n",
       " '575022a7aa229b620649632666ed5ddb504abc32.tif',\n",
       " '6973d49deb94c18047fa20c4a5dba8476491bfea.tif',\n",
       " '4616f3bfe37ae02cc29418baa4e8013be18d7018.tif',\n",
       " '11f7a527b4cabfcc4d00b455c9ecb52fc0547feb.tif',\n",
       " '67aa2048ba87750371978d85d0dd0a2ffedd8bc3.tif',\n",
       " '7e1e3926b47355255cc12b50882a5bfdf93f71b3.tif',\n",
       " '75ac86312aeee843efd50c1b3c728758bdee914a.tif',\n",
       " '1d7dd9909d70b91a639880e896e747dcc8166289.tif',\n",
       " '94689816b32788df3732d948f2309d332f4caefa.tif',\n",
       " '9856d7e643341148424613a15be160633246357f.tif',\n",
       " 'e9644bfb5f3072d3038e9ad74f0cf741af690581.tif',\n",
       " '370dc5f2a3f9f2a2ef9d547a51c60e53e1cca8ec.tif',\n",
       " '0af799203d8ba02debfbe8604fffda0d884c7b93.tif',\n",
       " '8a1870790a61f2f5b9fb58b25ace64df72919fea.tif',\n",
       " '5f2bfc9770dccaf4ca30aad78112c21a6c5bbc0a.tif',\n",
       " ...]"
      ]
     },
     "execution_count": 8,
     "metadata": {},
     "output_type": "execute_result"
    }
   ],
   "source": [
    "import os\n",
    "os.listdir('true/')"
   ]
  },
  {
   "cell_type": "code",
   "execution_count": 24,
   "metadata": {
    "_cell_guid": "79c7e3d0-c299-4dcb-8224-4455121ee9b0",
    "_uuid": "d629ff2d2480ee46fbb7e2d37f6b5fab8052498a"
   },
   "outputs": [
    {
     "data": {
      "text/html": [
       "<div>\n",
       "<style scoped>\n",
       "    .dataframe tbody tr th:only-of-type {\n",
       "        vertical-align: middle;\n",
       "    }\n",
       "\n",
       "    .dataframe tbody tr th {\n",
       "        vertical-align: top;\n",
       "    }\n",
       "\n",
       "    .dataframe thead th {\n",
       "        text-align: right;\n",
       "    }\n",
       "</style>\n",
       "<table border=\"1\" class=\"dataframe\">\n",
       "  <thead>\n",
       "    <tr style=\"text-align: right;\">\n",
       "      <th></th>\n",
       "      <th>id</th>\n",
       "      <th>label</th>\n",
       "    </tr>\n",
       "  </thead>\n",
       "  <tbody>\n",
       "    <tr>\n",
       "      <th>0</th>\n",
       "      <td>f38a6374c348f90b587e046aac6079959adf3835</td>\n",
       "      <td>0</td>\n",
       "    </tr>\n",
       "    <tr>\n",
       "      <th>1</th>\n",
       "      <td>c18f2d887b7ae4f6742ee445113fa1aef383ed77</td>\n",
       "      <td>1</td>\n",
       "    </tr>\n",
       "    <tr>\n",
       "      <th>2</th>\n",
       "      <td>755db6279dae599ebb4d39a9123cce439965282d</td>\n",
       "      <td>0</td>\n",
       "    </tr>\n",
       "    <tr>\n",
       "      <th>3</th>\n",
       "      <td>bc3f0c64fb968ff4a8bd33af6971ecae77c75e08</td>\n",
       "      <td>0</td>\n",
       "    </tr>\n",
       "    <tr>\n",
       "      <th>4</th>\n",
       "      <td>068aba587a4950175d04c680d38943fd488d6a9d</td>\n",
       "      <td>0</td>\n",
       "    </tr>\n",
       "  </tbody>\n",
       "</table>\n",
       "</div>"
      ],
      "text/plain": [
       "                                         id  label\n",
       "0  f38a6374c348f90b587e046aac6079959adf3835      0\n",
       "1  c18f2d887b7ae4f6742ee445113fa1aef383ed77      1\n",
       "2  755db6279dae599ebb4d39a9123cce439965282d      0\n",
       "3  bc3f0c64fb968ff4a8bd33af6971ecae77c75e08      0\n",
       "4  068aba587a4950175d04c680d38943fd488d6a9d      0"
      ]
     },
     "execution_count": 24,
     "metadata": {},
     "output_type": "execute_result"
    }
   ],
   "source": [
    "import pandas as pd\n",
    "from sklearn.model_selection import train_test_split\n",
    "\n",
    "dtypes = {\n",
    "        'id'            : 'str',\n",
    "        'label'           : 'int8',\n",
    "        }\n",
    "train_labels = pd.read_csv('train_labels.csv',dtype = dtypes)\n",
    "train_labels.head()"
   ]
  },
  {
   "cell_type": "code",
   "execution_count": 25,
   "metadata": {
    "_uuid": "9f54af47cb87a35e6ba7fe83e8f188a2fdd5836e"
   },
   "outputs": [
    {
     "data": {
      "text/plain": [
       "(array([ 23438,  78108, 110289, ..., 220014, 220021, 220024]), 178234)"
      ]
     },
     "execution_count": 25,
     "metadata": {},
     "output_type": "execute_result"
    }
   ],
   "source": [
    "#balance 0 and 1 in train data\n",
    "np.random.seed(23333)\n",
    "train_labels.groupby(['label']).size() #0:130908 1: 89117\n",
    "index = np.where(train_labels['label']==0)[0]\n",
    "index = np.random.choice(index,89117,replace=False)\n",
    "\n",
    "index = np.concatenate([index,np.where(train_labels['label']==1)[0]])\n",
    "index,len(index)"
   ]
  },
  {
   "cell_type": "code",
   "execution_count": 26,
   "metadata": {},
   "outputs": [],
   "source": [
    "#split train to new train/validate\n",
    "n = len(train_labels)\n",
    "X_train, X_test, y_train, y_test = train_test_split(train_labels.iloc[index]['id'], train_labels.iloc[index]['label'], test_size=0.2, random_state=23333)"
   ]
  },
  {
   "cell_type": "code",
   "execution_count": 15,
   "metadata": {},
   "outputs": [
    {
     "data": {
      "text/plain": [
       "71257"
      ]
     },
     "execution_count": 15,
     "metadata": {},
     "output_type": "execute_result"
    }
   ],
   "source": [
    "sum(y_train==0)"
   ]
  },
  {
   "cell_type": "code",
   "execution_count": 8,
   "metadata": {
    "_uuid": "9f54af47cb87a35e6ba7fe83e8f188a2fdd5836e"
   },
   "outputs": [
    {
     "data": {
      "text/plain": [
       "(array([ 23438,  78108, 110289, ..., 220014, 220021, 220024]), 178234)"
      ]
     },
     "execution_count": 8,
     "metadata": {},
     "output_type": "execute_result"
    }
   ],
   "source": [
    "#balance 0 and 1 in train data\n",
    "np.random.seed(23333)\n",
    "train_labels.groupby(['label']).size() #0:130908 1: 89117\n",
    "index = np.where(train_labels['label']==0)[0]\n",
    "index = np.random.choice(index,89117,replace=False)\n",
    "\n",
    "index = np.concatenate([index,np.where(train_labels['label']==1)[0]])\n",
    "index,len(index)"
   ]
  },
  {
   "cell_type": "code",
   "execution_count": null,
   "metadata": {},
   "outputs": [],
   "source": []
  },
  {
   "cell_type": "code",
   "execution_count": 15,
   "metadata": {},
   "outputs": [
    {
     "data": {
      "text/plain": [
       "71257"
      ]
     },
     "execution_count": 15,
     "metadata": {},
     "output_type": "execute_result"
    }
   ],
   "source": [
    "sum(y_train==0)"
   ]
  },
  {
   "cell_type": "code",
   "execution_count": 8,
   "metadata": {
    "_uuid": "9f54af47cb87a35e6ba7fe83e8f188a2fdd5836e"
   },
   "outputs": [
    {
     "data": {
      "text/plain": [
       "(array([ 23438,  78108, 110289, ..., 220014, 220021, 220024]), 178234)"
      ]
     },
     "execution_count": 8,
     "metadata": {},
     "output_type": "execute_result"
    }
   ],
   "source": [
    "#balance 0 and 1 in train data\n",
    "np.random.seed(23333)\n",
    "train_labels.groupby(['label']).size() #0:130908 1: 89117\n",
    "index = np.where(train_labels['label']==0)[0]\n",
    "index = np.random.choice(index,89117,replace=False)\n",
    "\n",
    "index = np.concatenate([index,np.where(train_labels['label']==1)[0]])\n",
    "index,len(index)"
   ]
  },
  {
   "cell_type": "code",
   "execution_count": null,
   "metadata": {},
   "outputs": [],
   "source": []
  },
  {
   "cell_type": "code",
   "execution_count": 19,
   "metadata": {},
   "outputs": [
    {
     "name": "stderr",
     "output_type": "stream",
     "text": [
      "/opt/conda/lib/python3.6/site-packages/h5py/__init__.py:36: FutureWarning: Conversion of the second argument of issubdtype from `float` to `np.floating` is deprecated. In future, it will be treated as `np.float64 == np.dtype(float).type`.\n",
      "  from ._conv import register_converters as _register_converters\n"
     ]
    },
    {
     "data": {
      "text/plain": [
       "[name: \"/device:CPU:0\"\n",
       " device_type: \"CPU\"\n",
       " memory_limit: 268435456\n",
       " locality {\n",
       " }\n",
       " incarnation: 7941129754037897178, name: \"/device:GPU:0\"\n",
       " device_type: \"GPU\"\n",
       " memory_limit: 15868438119\n",
       " locality {\n",
       "   bus_id: 1\n",
       "   links {\n",
       "   }\n",
       " }\n",
       " incarnation: 12044241789580775273\n",
       " physical_device_desc: \"device: 0, name: Tesla P100-PCIE-16GB, pci bus id: d6ae:00:00.0, compute capability: 6.0\"]"
      ]
     },
     "execution_count": 19,
     "metadata": {},
     "output_type": "execute_result"
    }
   ],
   "source": [
    "from tensorflow.python.client import device_lib\n",
    "device_lib.list_local_devices()"
   ]
  },
  {
   "cell_type": "code",
   "execution_count": 2,
   "metadata": {
    "_uuid": "4eca14d7a892d1313749c8c2dc94aaa2f715b0a4",
    "scrolled": true
   },
   "outputs": [
    {
     "name": "stderr",
     "output_type": "stream",
     "text": [
      "/opt/conda/lib/python3.6/site-packages/h5py/__init__.py:36: FutureWarning: Conversion of the second argument of issubdtype from `float` to `np.floating` is deprecated. In future, it will be treated as `np.float64 == np.dtype(float).type`.\n",
      "  from ._conv import register_converters as _register_converters\n",
      "Using TensorFlow backend.\n"
     ]
    },
    {
     "name": "stdout",
     "output_type": "stream",
     "text": [
      "Found 142587 images belonging to 2 classes.\n"
     ]
    }
   ],
   "source": [
    "from keras.preprocessing.image import ImageDataGenerator\n",
    "train_datagen = ImageDataGenerator(True,True,True,True,\n",
    "        rescale=1./255,\n",
    "        rotation_range=40,                           \n",
    "#         shear_range=0.2,\n",
    "        zoom_range=0.2,\n",
    "        horizontal_flip=True,\n",
    "        vertical_flip= True)\n",
    "\n",
    "train_generator = train_datagen.flow_from_directory(\n",
    "    directory=\"train/\",\n",
    "    target_size=(96, 96),\n",
    "    color_mode=\"rgb\",\n",
    "    batch_size=32,\n",
    "    class_mode=\"categorical\",\n",
    "    shuffle=True,\n",
    "    seed=23333\n",
    ")"
   ]
  },
  {
   "cell_type": "code",
   "execution_count": 3,
   "metadata": {
    "_uuid": "eb3dc3567c0f0f2e939bd5e451767345f2ea90c7",
    "scrolled": true
   },
   "outputs": [
    {
     "name": "stdout",
     "output_type": "stream",
     "text": [
      "Found 35647 images belonging to 2 classes.\n"
     ]
    }
   ],
   "source": [
    "valid_datagen = ImageDataGenerator(True,True,True,True,\n",
    "        rescale=1./255,\n",
    "        rotation_range=40,                           \n",
    "#         shear_range=0.2,\n",
    "        zoom_range=0.2,\n",
    "        horizontal_flip=True,\n",
    "        vertical_flip= True)\n",
    "\n",
    "valid_generator = valid_datagen.flow_from_directory(\n",
    "    directory=\"validate/\",\n",
    "    target_size=(96, 96),\n",
    "    color_mode=\"rgb\",\n",
    "    batch_size=32,\n",
    "    class_mode=\"categorical\",\n",
    "    shuffle=True,\n",
    "    seed=23333\n",
    ")"
   ]
  },
  {
   "cell_type": "code",
   "execution_count": 40,
   "metadata": {},
   "outputs": [],
   "source": [
    "os.rmdir('validate/.ipynb_checkpoints')"
   ]
  },
  {
   "cell_type": "code",
   "execution_count": 43,
   "metadata": {},
   "outputs": [
    {
     "ename": "KeyError",
     "evalue": "0",
     "output_type": "error",
     "traceback": [
      "\u001b[0;31m\u001b[0m",
      "\u001b[0;31mKeyError\u001b[0mTraceback (most recent call last)",
      "\u001b[0;32m<ipython-input-43-7d86f824089d>\u001b[0m in \u001b[0;36m<module>\u001b[0;34m()\u001b[0m\n\u001b[1;32m      1\u001b[0m \u001b[0;32mimport\u001b[0m \u001b[0mkeras\u001b[0m\u001b[0;34m\u001b[0m\u001b[0m\n\u001b[1;32m      2\u001b[0m \u001b[0;32mfrom\u001b[0m \u001b[0mkeras\u001b[0m\u001b[0;34m.\u001b[0m\u001b[0mmodels\u001b[0m \u001b[0;32mimport\u001b[0m \u001b[0mload_model\u001b[0m\u001b[0;34m\u001b[0m\u001b[0m\n\u001b[0;32m----> 3\u001b[0;31m \u001b[0mcnn1\u001b[0m \u001b[0;34m=\u001b[0m \u001b[0mload_model\u001b[0m\u001b[0;34m(\u001b[0m\u001b[0;34m'07-0.28.h5'\u001b[0m\u001b[0;34m)\u001b[0m\u001b[0;34m\u001b[0m\u001b[0m\n\u001b[0m",
      "\u001b[0;32m/opt/conda/lib/python3.6/site-packages/keras/models.py\u001b[0m in \u001b[0;36mload_model\u001b[0;34m(filepath, custom_objects, compile)\u001b[0m\n\u001b[1;32m    241\u001b[0m             \u001b[0;32mraise\u001b[0m \u001b[0mValueError\u001b[0m\u001b[0;34m(\u001b[0m\u001b[0;34m'No model found in config file.'\u001b[0m\u001b[0;34m)\u001b[0m\u001b[0;34m\u001b[0m\u001b[0m\n\u001b[1;32m    242\u001b[0m         \u001b[0mmodel_config\u001b[0m \u001b[0;34m=\u001b[0m \u001b[0mjson\u001b[0m\u001b[0;34m.\u001b[0m\u001b[0mloads\u001b[0m\u001b[0;34m(\u001b[0m\u001b[0mmodel_config\u001b[0m\u001b[0;34m.\u001b[0m\u001b[0mdecode\u001b[0m\u001b[0;34m(\u001b[0m\u001b[0;34m'utf-8'\u001b[0m\u001b[0;34m)\u001b[0m\u001b[0;34m)\u001b[0m\u001b[0;34m\u001b[0m\u001b[0m\n\u001b[0;32m--> 243\u001b[0;31m         \u001b[0mmodel\u001b[0m \u001b[0;34m=\u001b[0m \u001b[0mmodel_from_config\u001b[0m\u001b[0;34m(\u001b[0m\u001b[0mmodel_config\u001b[0m\u001b[0;34m,\u001b[0m \u001b[0mcustom_objects\u001b[0m\u001b[0;34m=\u001b[0m\u001b[0mcustom_objects\u001b[0m\u001b[0;34m)\u001b[0m\u001b[0;34m\u001b[0m\u001b[0m\n\u001b[0m\u001b[1;32m    244\u001b[0m \u001b[0;34m\u001b[0m\u001b[0m\n\u001b[1;32m    245\u001b[0m         \u001b[0;31m# set weights\u001b[0m\u001b[0;34m\u001b[0m\u001b[0;34m\u001b[0m\u001b[0m\n",
      "\u001b[0;32m/opt/conda/lib/python3.6/site-packages/keras/models.py\u001b[0m in \u001b[0;36mmodel_from_config\u001b[0;34m(config, custom_objects)\u001b[0m\n\u001b[1;32m    315\u001b[0m                         \u001b[0;34m'Maybe you meant to use '\u001b[0m\u001b[0;34m\u001b[0m\u001b[0m\n\u001b[1;32m    316\u001b[0m                         '`Sequential.from_config(config)`?')\n\u001b[0;32m--> 317\u001b[0;31m     \u001b[0;32mreturn\u001b[0m \u001b[0mlayer_module\u001b[0m\u001b[0;34m.\u001b[0m\u001b[0mdeserialize\u001b[0m\u001b[0;34m(\u001b[0m\u001b[0mconfig\u001b[0m\u001b[0;34m,\u001b[0m \u001b[0mcustom_objects\u001b[0m\u001b[0;34m=\u001b[0m\u001b[0mcustom_objects\u001b[0m\u001b[0;34m)\u001b[0m\u001b[0;34m\u001b[0m\u001b[0m\n\u001b[0m\u001b[1;32m    318\u001b[0m \u001b[0;34m\u001b[0m\u001b[0m\n\u001b[1;32m    319\u001b[0m \u001b[0;34m\u001b[0m\u001b[0m\n",
      "\u001b[0;32m/opt/conda/lib/python3.6/site-packages/keras/layers/__init__.py\u001b[0m in \u001b[0;36mdeserialize\u001b[0;34m(config, custom_objects)\u001b[0m\n\u001b[1;32m     53\u001b[0m                                     \u001b[0mmodule_objects\u001b[0m\u001b[0;34m=\u001b[0m\u001b[0mglobs\u001b[0m\u001b[0;34m,\u001b[0m\u001b[0;34m\u001b[0m\u001b[0m\n\u001b[1;32m     54\u001b[0m                                     \u001b[0mcustom_objects\u001b[0m\u001b[0;34m=\u001b[0m\u001b[0mcustom_objects\u001b[0m\u001b[0;34m,\u001b[0m\u001b[0;34m\u001b[0m\u001b[0m\n\u001b[0;32m---> 55\u001b[0;31m                                     printable_module_name='layer')\n\u001b[0m",
      "\u001b[0;32m/opt/conda/lib/python3.6/site-packages/keras/utils/generic_utils.py\u001b[0m in \u001b[0;36mdeserialize_keras_object\u001b[0;34m(identifier, module_objects, custom_objects, printable_module_name)\u001b[0m\n\u001b[1;32m    142\u001b[0m                 return cls.from_config(config['config'],\n\u001b[1;32m    143\u001b[0m                                        custom_objects=dict(list(_GLOBAL_CUSTOM_OBJECTS.items()) +\n\u001b[0;32m--> 144\u001b[0;31m                                                            list(custom_objects.items())))\n\u001b[0m\u001b[1;32m    145\u001b[0m             \u001b[0;32mwith\u001b[0m \u001b[0mCustomObjectScope\u001b[0m\u001b[0;34m(\u001b[0m\u001b[0mcustom_objects\u001b[0m\u001b[0;34m)\u001b[0m\u001b[0;34m:\u001b[0m\u001b[0;34m\u001b[0m\u001b[0m\n\u001b[1;32m    146\u001b[0m                 \u001b[0;32mreturn\u001b[0m \u001b[0mcls\u001b[0m\u001b[0;34m.\u001b[0m\u001b[0mfrom_config\u001b[0m\u001b[0;34m(\u001b[0m\u001b[0mconfig\u001b[0m\u001b[0;34m[\u001b[0m\u001b[0;34m'config'\u001b[0m\u001b[0;34m]\u001b[0m\u001b[0;34m)\u001b[0m\u001b[0;34m\u001b[0m\u001b[0m\n",
      "\u001b[0;32m/opt/conda/lib/python3.6/site-packages/keras/models.py\u001b[0m in \u001b[0;36mfrom_config\u001b[0;34m(cls, config, custom_objects)\u001b[0m\n\u001b[1;32m   1365\u001b[0m     \u001b[0;34m@\u001b[0m\u001b[0mclassmethod\u001b[0m\u001b[0;34m\u001b[0m\u001b[0m\n\u001b[1;32m   1366\u001b[0m     \u001b[0;32mdef\u001b[0m \u001b[0mfrom_config\u001b[0m\u001b[0;34m(\u001b[0m\u001b[0mcls\u001b[0m\u001b[0;34m,\u001b[0m \u001b[0mconfig\u001b[0m\u001b[0;34m,\u001b[0m \u001b[0mcustom_objects\u001b[0m\u001b[0;34m=\u001b[0m\u001b[0;32mNone\u001b[0m\u001b[0;34m)\u001b[0m\u001b[0;34m:\u001b[0m\u001b[0;34m\u001b[0m\u001b[0m\n\u001b[0;32m-> 1367\u001b[0;31m         \u001b[0;32mif\u001b[0m \u001b[0;34m'class_name'\u001b[0m \u001b[0;32mnot\u001b[0m \u001b[0;32min\u001b[0m \u001b[0mconfig\u001b[0m\u001b[0;34m[\u001b[0m\u001b[0;36m0\u001b[0m\u001b[0;34m]\u001b[0m \u001b[0;32mor\u001b[0m \u001b[0mconfig\u001b[0m\u001b[0;34m[\u001b[0m\u001b[0;36m0\u001b[0m\u001b[0;34m]\u001b[0m\u001b[0;34m[\u001b[0m\u001b[0;34m'class_name'\u001b[0m\u001b[0;34m]\u001b[0m \u001b[0;34m==\u001b[0m \u001b[0;34m'Merge'\u001b[0m\u001b[0;34m:\u001b[0m\u001b[0;34m\u001b[0m\u001b[0m\n\u001b[0m\u001b[1;32m   1368\u001b[0m             \u001b[0;32mreturn\u001b[0m \u001b[0mcls\u001b[0m\u001b[0;34m.\u001b[0m\u001b[0mlegacy_from_config\u001b[0m\u001b[0;34m(\u001b[0m\u001b[0mconfig\u001b[0m\u001b[0;34m)\u001b[0m\u001b[0;34m\u001b[0m\u001b[0m\n\u001b[1;32m   1369\u001b[0m \u001b[0;34m\u001b[0m\u001b[0m\n",
      "\u001b[0;31mKeyError\u001b[0m: 0"
     ]
    }
   ],
   "source": [
    "import keras\n",
    "from keras.models import load_model\n",
    "cnn1 = load_model('07-0.28.h5')\n"
   ]
  },
  {
   "cell_type": "code",
   "execution_count": 44,
   "metadata": {},
   "outputs": [],
   "source": [
    "import keras\n",
    "from keras.models import Sequential\n",
    "from keras.layers import Conv2D, MaxPooling2D,BatchNormalization,Dense, Dropout, Flatten\n",
    "import numpy as np\n",
    "\n",
    "cnn1 = Sequential()\n",
    "cnn1.add(Conv2D(32, kernel_size=(3, 3), activation='relu', input_shape=(96,96,3)))\n",
    "cnn1.add(BatchNormalization())\n",
    "\n",
    "cnn1.add(Conv2D(32, kernel_size=(3, 3), activation='relu'))\n",
    "cnn1.add(BatchNormalization())\n",
    "cnn1.add(MaxPooling2D(pool_size=(2, 2)))\n",
    "cnn1.add(Dropout(0.25))\n",
    "\n",
    "cnn1.add(Conv2D(64, kernel_size=(3, 3), activation='relu'))\n",
    "cnn1.add(BatchNormalization())\n",
    "cnn1.add(Dropout(0.25))\n",
    "\n",
    "cnn1.add(Conv2D(128, kernel_size=(3, 3), activation='relu'))\n",
    "cnn1.add(BatchNormalization())\n",
    "cnn1.add(MaxPooling2D(pool_size=(2, 2)))\n",
    "cnn1.add(Dropout(0.25))\n",
    "\n",
    "cnn1.add(Flatten())\n",
    "\n",
    "cnn1.add(Dense(512, activation='relu'))\n",
    "cnn1.add(BatchNormalization())\n",
    "cnn1.add(Dropout(0.5))\n",
    "\n",
    "cnn1.add(Dense(128, activation='relu'))\n",
    "cnn1.add(BatchNormalization())\n",
    "cnn1.add(Dropout(0.5))\n",
    "\n",
    "cnn1.add(Dense(2, activation='softmax'))\n",
    "\n",
    "cnn1.compile(loss=keras.losses.binary_crossentropy,\n",
    "                  optimizer=keras.optimizers.Adam(),\n",
    "                  metrics=['accuracy'])\n",
    "\n",
    "callbacks = [keras.callbacks.EarlyStopping(monitor='val_loss', patience=2),\n",
    "             keras.callbacks.ModelCheckpoint(filepath='{epoch:02d}-{val_loss:.2f}.h5',\n",
    "                                             monitor='val_loss', save_best_only=True)]"
   ]
  },
  {
   "cell_type": "code",
   "execution_count": 47,
   "metadata": {},
   "outputs": [
    {
     "name": "stdout",
     "output_type": "stream",
     "text": [
      "Epoch 1/10\n"
     ]
    },
    {
     "name": "stderr",
     "output_type": "stream",
     "text": [
      "/opt/conda/lib/python3.6/site-packages/keras/preprocessing/image.py:594: UserWarning: This ImageDataGenerator specifies `featurewise_center`, but it hasn't been fit on any training data. Fit it first by calling `.fit(numpy_data)`.\n",
      "  warnings.warn('This ImageDataGenerator specifies '\n",
      "/opt/conda/lib/python3.6/site-packages/keras/preprocessing/image.py:602: UserWarning: This ImageDataGenerator specifies `featurewise_std_normalization`, but it hasn't been fit on any training data. Fit it first by calling `.fit(numpy_data)`.\n",
      "  warnings.warn('This ImageDataGenerator specifies '\n"
     ]
    },
    {
     "name": "stdout",
     "output_type": "stream",
     "text": [
      "4456/4456 [==============================] - 1986s 446ms/step - loss: 0.4081 - acc: 0.8178 - val_loss: 0.3192 - val_acc: 0.8652\n",
      "Epoch 2/10\n",
      "4456/4456 [==============================] - 1845s 414ms/step - loss: 0.3323 - acc: 0.8577 - val_loss: 0.3114 - val_acc: 0.8655\n",
      "Epoch 3/10\n",
      "4456/4456 [==============================] - 1839s 413ms/step - loss: 0.2999 - acc: 0.8752 - val_loss: 0.2715 - val_acc: 0.8895\n",
      "Epoch 4/10\n",
      "4456/4456 [==============================] - 1856s 417ms/step - loss: 0.2812 - acc: 0.8851 - val_loss: 0.2803 - val_acc: 0.8790\n",
      "Epoch 5/10\n",
      "4456/4456 [==============================] - 1827s 410ms/step - loss: 0.2643 - acc: 0.8932 - val_loss: 0.3122 - val_acc: 0.8660\n"
     ]
    }
   ],
   "source": [
    "hist = cnn1.fit_generator(train_generator, \n",
    "                   steps_per_epoch=np.ceil(142587 / 32), \n",
    "                   epochs=10, \n",
    "                   verbose=1,\n",
    "                   validation_data=valid_generator,\n",
    "                   validation_steps = np.ceil(35647 / 32),\n",
    "                  callbacks = callbacks)"
   ]
  },
  {
   "cell_type": "code",
   "execution_count": null,
   "metadata": {},
   "outputs": [],
   "source": [
    "train_acc = [0.8178,0.8577,0.8752,0.8851,0.8932,0.8989,0.9008,0.9056,0.9070,0.9100]\n",
    "train_loss = [0.4081,0.3323,0.2999,0.2812,0.2643,0.2527,0.2479,0.2402,0.2352,0.2298]\n",
    "valid_acc = [0.8652,0.8655,0.8895,0.8790,0.8660,0.9091,0.8919,0.9109,0.9224,0.8850]\n",
    "valid_loss = [0.3192,0.3114,0.2715,0.2803,0.3122,0.2343,0.2582,0.2243,0.2015,0.2584]"
   ]
  },
  {
   "cell_type": "code",
   "execution_count": 63,
   "metadata": {},
   "outputs": [],
   "source": [
    "import keras\n",
    "from keras.models import load_model\n",
    "cnn1 = load_model('08-0.22.h5')\n",
    "callbacks = [keras.callbacks.EarlyStopping(monitor='val_loss', patience=2),\n",
    "             keras.callbacks.ModelCheckpoint(filepath='{epoch:02d}-{val_loss:.2f}.h5',\n",
    "                                             monitor='acc', save_best_only=True)]"
   ]
  },
  {
   "cell_type": "code",
   "execution_count": 62,
   "metadata": {},
   "outputs": [
    {
     "name": "stdout",
     "output_type": "stream",
     "text": [
      "Epoch 6/20\n"
     ]
    },
    {
     "name": "stderr",
     "output_type": "stream",
     "text": [
      "/opt/conda/lib/python3.6/site-packages/keras/preprocessing/image.py:594: UserWarning: This ImageDataGenerator specifies `featurewise_center`, but it hasn't been fit on any training data. Fit it first by calling `.fit(numpy_data)`.\n",
      "  warnings.warn('This ImageDataGenerator specifies '\n",
      "/opt/conda/lib/python3.6/site-packages/keras/preprocessing/image.py:602: UserWarning: This ImageDataGenerator specifies `featurewise_std_normalization`, but it hasn't been fit on any training data. Fit it first by calling `.fit(numpy_data)`.\n",
      "  warnings.warn('This ImageDataGenerator specifies '\n"
     ]
    },
    {
     "name": "stdout",
     "output_type": "stream",
     "text": [
      "4456/4456 [==============================] - 1859s 417ms/step - loss: 0.2527 - acc: 0.8989 - val_loss: 0.2343 - val_acc: 0.9091\n",
      "Epoch 7/20\n",
      "4456/4456 [==============================] - 1865s 418ms/step - loss: 0.2479 - acc: 0.9008 - val_loss: 0.2582 - val_acc: 0.8919\n",
      "Epoch 8/20\n",
      "4456/4456 [==============================] - 1834s 412ms/step - loss: 0.2402 - acc: 0.9056 - val_loss: 0.2243 - val_acc: 0.9109\n",
      "Epoch 9/20\n",
      "4456/4456 [==============================] - 1856s 417ms/step - loss: 0.2336 - acc: 0.9083 - val_loss: 0.2693 - val_acc: 0.8827\n",
      "Epoch 10/20\n",
      "4456/4456 [==============================] - 1844s 414ms/step - loss: 0.2294 - acc: 0.9101 - val_loss: 0.2616 - val_acc: 0.8933\n"
     ]
    }
   ],
   "source": [
    "hist = cnn1.fit_generator(train_generator, \n",
    "                   steps_per_epoch=np.ceil(142587 / 32), \n",
    "                   epochs=20, \n",
    "                   verbose=1,\n",
    "                   validation_data=valid_generator,\n",
    "                   validation_steps = np.ceil(35647 / 32),\n",
    "                  callbacks = callbacks,\n",
    "                         initial_epoch = 5)"
   ]
  },
  {
   "cell_type": "code",
   "execution_count": 64,
   "metadata": {},
   "outputs": [
    {
     "data": {
      "text/plain": [
       "<keras.callbacks.History at 0x7f7340ede7b8>"
      ]
     },
     "execution_count": 64,
     "metadata": {},
     "output_type": "execute_result"
    }
   ],
   "source": [
    "hist"
   ]
  },
  {
   "cell_type": "code",
   "execution_count": 65,
   "metadata": {},
   "outputs": [
    {
     "name": "stdout",
     "output_type": "stream",
     "text": [
      "Epoch 9/20\n"
     ]
    },
    {
     "name": "stderr",
     "output_type": "stream",
     "text": [
      "/opt/conda/lib/python3.6/site-packages/keras/preprocessing/image.py:594: UserWarning: This ImageDataGenerator specifies `featurewise_center`, but it hasn't been fit on any training data. Fit it first by calling `.fit(numpy_data)`.\n",
      "  warnings.warn('This ImageDataGenerator specifies '\n",
      "/opt/conda/lib/python3.6/site-packages/keras/preprocessing/image.py:602: UserWarning: This ImageDataGenerator specifies `featurewise_std_normalization`, but it hasn't been fit on any training data. Fit it first by calling `.fit(numpy_data)`.\n",
      "  warnings.warn('This ImageDataGenerator specifies '\n"
     ]
    },
    {
     "name": "stdout",
     "output_type": "stream",
     "text": [
      "4456/4456 [==============================] - 1874s 421ms/step - loss: 0.2352 - acc: 0.9070 - val_loss: 0.2015 - val_acc: 0.9224\n",
      "Epoch 10/20\n",
      "4456/4456 [==============================] - 1874s 420ms/step - loss: 0.2298 - acc: 0.9100 - val_loss: 0.2584 - val_acc: 0.8850\n",
      "Epoch 11/20\n",
      "4456/4456 [==============================] - 1872s 420ms/step - loss: 0.2249 - acc: 0.9125 - val_loss: 0.2138 - val_acc: 0.9119\n"
     ]
    }
   ],
   "source": [
    "hist1 = cnn1.fit_generator(train_generator, \n",
    "                   steps_per_epoch=np.ceil(142587 / 32), \n",
    "                   epochs=20, \n",
    "                   verbose=1,\n",
    "                   validation_data=valid_generator,\n",
    "                   validation_steps = np.ceil(35647 / 32),\n",
    "                  callbacks = callbacks,\n",
    "                         initial_epoch = 8)"
   ]
  },
  {
   "cell_type": "code",
   "execution_count": 67,
   "metadata": {},
   "outputs": [
    {
     "name": "stdout",
     "output_type": "stream",
     "text": [
      "Epoch 12/20\n"
     ]
    },
    {
     "name": "stderr",
     "output_type": "stream",
     "text": [
      "/opt/conda/lib/python3.6/site-packages/keras/preprocessing/image.py:594: UserWarning: This ImageDataGenerator specifies `featurewise_center`, but it hasn't been fit on any training data. Fit it first by calling `.fit(numpy_data)`.\n",
      "  warnings.warn('This ImageDataGenerator specifies '\n",
      "/opt/conda/lib/python3.6/site-packages/keras/preprocessing/image.py:602: UserWarning: This ImageDataGenerator specifies `featurewise_std_normalization`, but it hasn't been fit on any training data. Fit it first by calling `.fit(numpy_data)`.\n",
      "  warnings.warn('This ImageDataGenerator specifies '\n"
     ]
    },
    {
     "name": "stdout",
     "output_type": "stream",
     "text": [
      "4456/4456 [==============================] - 1878s 422ms/step - loss: 0.2231 - acc: 0.9130 - val_loss: 0.2060 - val_acc: 0.9185\n",
      "Epoch 13/20\n",
      "4456/4456 [==============================] - 1866s 419ms/step - loss: 0.2187 - acc: 0.9151 - val_loss: 0.2006 - val_acc: 0.9206\n",
      "Epoch 14/20\n",
      "4456/4456 [==============================] - 1884s 423ms/step - loss: 0.2175 - acc: 0.9155 - val_loss: 0.2197 - val_acc: 0.9100\n",
      "Epoch 15/20\n",
      "4456/4456 [==============================] - 1877s 421ms/step - loss: 0.2133 - acc: 0.9173 - val_loss: 0.2182 - val_acc: 0.9110\n"
     ]
    }
   ],
   "source": [
    "cnn1= load_model('11-0.21.h5')\n",
    "hist2 = cnn1.fit_generator(train_generator, \n",
    "                   steps_per_epoch=np.ceil(142587 / 32), \n",
    "                   epochs=20, \n",
    "                   verbose=1,\n",
    "                   validation_data=valid_generator,\n",
    "                   validation_steps = np.ceil(35647 / 32),\n",
    "                  callbacks = callbacks,\n",
    "                         initial_epoch = 11)"
   ]
  },
  {
   "cell_type": "code",
   "execution_count": null,
   "metadata": {},
   "outputs": [],
   "source": [
    "y_0 = y_test==1\n",
    "y_0 = y_test[y_0]\n",
    "ids = np.random.choice(y_0.keys(),30,False)\n",
    "model = load_models('09-020.h5')\n",
    "for i in ids:\n",
    "    file = '~/validate/true/'+i+'.tif'\n",
    "    image = np.array(file)\n",
    "    model"
   ]
  },
  {
   "cell_type": "code",
   "execution_count": 68,
   "metadata": {},
   "outputs": [
    {
     "name": "stdout",
     "output_type": "stream",
     "text": [
      "Epoch 16/20\n"
     ]
    },
    {
     "name": "stderr",
     "output_type": "stream",
     "text": [
      "/opt/conda/lib/python3.6/site-packages/keras/preprocessing/image.py:594: UserWarning: This ImageDataGenerator specifies `featurewise_center`, but it hasn't been fit on any training data. Fit it first by calling `.fit(numpy_data)`.\n",
      "  warnings.warn('This ImageDataGenerator specifies '\n",
      "/opt/conda/lib/python3.6/site-packages/keras/preprocessing/image.py:602: UserWarning: This ImageDataGenerator specifies `featurewise_std_normalization`, but it hasn't been fit on any training data. Fit it first by calling `.fit(numpy_data)`.\n",
      "  warnings.warn('This ImageDataGenerator specifies '\n"
     ]
    },
    {
     "name": "stdout",
     "output_type": "stream",
     "text": [
      "4456/4456 [==============================] - 1857s 417ms/step - loss: 0.2099 - acc: 0.9196 - val_loss: 0.2256 - val_acc: 0.9030\n",
      "Epoch 17/20\n",
      "4456/4456 [==============================] - 1860s 417ms/step - loss: 0.2098 - acc: 0.9190 - val_loss: 0.2408 - val_acc: 0.8993\n",
      "Epoch 18/20\n",
      "4456/4456 [==============================] - 1840s 413ms/step - loss: 0.2075 - acc: 0.9202 - val_loss: 0.2414 - val_acc: 0.8958\n"
     ]
    }
   ],
   "source": [
    "cnn1= load_model('15-0.22.h5')\n",
    "hist3 = cnn1.fit_generator(train_generator, \n",
    "                   steps_per_epoch=np.ceil(142587 / 32), \n",
    "                   epochs=20, \n",
    "                   verbose=1,\n",
    "                   validation_data=valid_generator,\n",
    "                   validation_steps = np.ceil(35647 / 32),\n",
    "                  callbacks = callbacks,\n",
    "                         initial_epoch = 15)"
   ]
  },
  {
   "cell_type": "code",
   "execution_count": 8,
   "metadata": {},
   "outputs": [
    {
     "name": "stdout",
     "output_type": "stream",
     "text": [
      "Epoch 19/20\n"
     ]
    },
    {
     "name": "stderr",
     "output_type": "stream",
     "text": [
      "/opt/conda/lib/python3.6/site-packages/keras/preprocessing/image.py:594: UserWarning: This ImageDataGenerator specifies `featurewise_center`, but it hasn't been fit on any training data. Fit it first by calling `.fit(numpy_data)`.\n",
      "  warnings.warn('This ImageDataGenerator specifies '\n",
      "/opt/conda/lib/python3.6/site-packages/keras/preprocessing/image.py:602: UserWarning: This ImageDataGenerator specifies `featurewise_std_normalization`, but it hasn't been fit on any training data. Fit it first by calling `.fit(numpy_data)`.\n",
      "  warnings.warn('This ImageDataGenerator specifies '\n"
     ]
    },
    {
     "name": "stdout",
     "output_type": "stream",
     "text": [
      " 428/4456 [=>............................] - ETA: 26:16 - loss: 0.2058 - acc: 0.9233"
     ]
    },
    {
     "ename": "KeyboardInterrupt",
     "evalue": "",
     "output_type": "error",
     "traceback": [
      "\u001b[0;31m\u001b[0m",
      "\u001b[0;31mKeyboardInterrupt\u001b[0mTraceback (most recent call last)",
      "\u001b[0;32m<ipython-input-8-df22c8dfb617>\u001b[0m in \u001b[0;36m<module>\u001b[0;34m()\u001b[0m\n\u001b[1;32m      7\u001b[0m                    \u001b[0mvalidation_steps\u001b[0m \u001b[0;34m=\u001b[0m \u001b[0mnp\u001b[0m\u001b[0;34m.\u001b[0m\u001b[0mceil\u001b[0m\u001b[0;34m(\u001b[0m\u001b[0;36m35647\u001b[0m \u001b[0;34m/\u001b[0m \u001b[0;36m32\u001b[0m\u001b[0;34m)\u001b[0m\u001b[0;34m,\u001b[0m\u001b[0;34m\u001b[0m\u001b[0m\n\u001b[1;32m      8\u001b[0m \u001b[0;31m#                   callbacks = callbacks,\u001b[0m\u001b[0;34m\u001b[0m\u001b[0;34m\u001b[0m\u001b[0m\n\u001b[0;32m----> 9\u001b[0;31m                          initial_epoch = 18)\n\u001b[0m",
      "\u001b[0;32m/opt/conda/lib/python3.6/site-packages/keras/legacy/interfaces.py\u001b[0m in \u001b[0;36mwrapper\u001b[0;34m(*args, **kwargs)\u001b[0m\n\u001b[1;32m     89\u001b[0m                 warnings.warn('Update your `' + object_name +\n\u001b[1;32m     90\u001b[0m                               '` call to the Keras 2 API: ' + signature, stacklevel=2)\n\u001b[0;32m---> 91\u001b[0;31m             \u001b[0;32mreturn\u001b[0m \u001b[0mfunc\u001b[0m\u001b[0;34m(\u001b[0m\u001b[0;34m*\u001b[0m\u001b[0margs\u001b[0m\u001b[0;34m,\u001b[0m \u001b[0;34m**\u001b[0m\u001b[0mkwargs\u001b[0m\u001b[0;34m)\u001b[0m\u001b[0;34m\u001b[0m\u001b[0m\n\u001b[0m\u001b[1;32m     92\u001b[0m         \u001b[0mwrapper\u001b[0m\u001b[0;34m.\u001b[0m\u001b[0m_original_function\u001b[0m \u001b[0;34m=\u001b[0m \u001b[0mfunc\u001b[0m\u001b[0;34m\u001b[0m\u001b[0m\n\u001b[1;32m     93\u001b[0m         \u001b[0;32mreturn\u001b[0m \u001b[0mwrapper\u001b[0m\u001b[0;34m\u001b[0m\u001b[0m\n",
      "\u001b[0;32m/opt/conda/lib/python3.6/site-packages/keras/models.py\u001b[0m in \u001b[0;36mfit_generator\u001b[0;34m(self, generator, steps_per_epoch, epochs, verbose, callbacks, validation_data, validation_steps, class_weight, max_queue_size, workers, use_multiprocessing, shuffle, initial_epoch)\u001b[0m\n\u001b[1;32m   1274\u001b[0m                                         \u001b[0muse_multiprocessing\u001b[0m\u001b[0;34m=\u001b[0m\u001b[0muse_multiprocessing\u001b[0m\u001b[0;34m,\u001b[0m\u001b[0;34m\u001b[0m\u001b[0m\n\u001b[1;32m   1275\u001b[0m                                         \u001b[0mshuffle\u001b[0m\u001b[0;34m=\u001b[0m\u001b[0mshuffle\u001b[0m\u001b[0;34m,\u001b[0m\u001b[0;34m\u001b[0m\u001b[0m\n\u001b[0;32m-> 1276\u001b[0;31m                                         initial_epoch=initial_epoch)\n\u001b[0m\u001b[1;32m   1277\u001b[0m \u001b[0;34m\u001b[0m\u001b[0m\n\u001b[1;32m   1278\u001b[0m     \u001b[0;34m@\u001b[0m\u001b[0minterfaces\u001b[0m\u001b[0;34m.\u001b[0m\u001b[0mlegacy_generator_methods_support\u001b[0m\u001b[0;34m\u001b[0m\u001b[0m\n",
      "\u001b[0;32m/opt/conda/lib/python3.6/site-packages/keras/legacy/interfaces.py\u001b[0m in \u001b[0;36mwrapper\u001b[0;34m(*args, **kwargs)\u001b[0m\n\u001b[1;32m     89\u001b[0m                 warnings.warn('Update your `' + object_name +\n\u001b[1;32m     90\u001b[0m                               '` call to the Keras 2 API: ' + signature, stacklevel=2)\n\u001b[0;32m---> 91\u001b[0;31m             \u001b[0;32mreturn\u001b[0m \u001b[0mfunc\u001b[0m\u001b[0;34m(\u001b[0m\u001b[0;34m*\u001b[0m\u001b[0margs\u001b[0m\u001b[0;34m,\u001b[0m \u001b[0;34m**\u001b[0m\u001b[0mkwargs\u001b[0m\u001b[0;34m)\u001b[0m\u001b[0;34m\u001b[0m\u001b[0m\n\u001b[0m\u001b[1;32m     92\u001b[0m         \u001b[0mwrapper\u001b[0m\u001b[0;34m.\u001b[0m\u001b[0m_original_function\u001b[0m \u001b[0;34m=\u001b[0m \u001b[0mfunc\u001b[0m\u001b[0;34m\u001b[0m\u001b[0m\n\u001b[1;32m     93\u001b[0m         \u001b[0;32mreturn\u001b[0m \u001b[0mwrapper\u001b[0m\u001b[0;34m\u001b[0m\u001b[0m\n",
      "\u001b[0;32m/opt/conda/lib/python3.6/site-packages/keras/engine/training.py\u001b[0m in \u001b[0;36mfit_generator\u001b[0;34m(self, generator, steps_per_epoch, epochs, verbose, callbacks, validation_data, validation_steps, class_weight, max_queue_size, workers, use_multiprocessing, shuffle, initial_epoch)\u001b[0m\n\u001b[1;32m   2190\u001b[0m                 \u001b[0mbatch_index\u001b[0m \u001b[0;34m=\u001b[0m \u001b[0;36m0\u001b[0m\u001b[0;34m\u001b[0m\u001b[0m\n\u001b[1;32m   2191\u001b[0m                 \u001b[0;32mwhile\u001b[0m \u001b[0msteps_done\u001b[0m \u001b[0;34m<\u001b[0m \u001b[0msteps_per_epoch\u001b[0m\u001b[0;34m:\u001b[0m\u001b[0;34m\u001b[0m\u001b[0m\n\u001b[0;32m-> 2192\u001b[0;31m                     \u001b[0mgenerator_output\u001b[0m \u001b[0;34m=\u001b[0m \u001b[0mnext\u001b[0m\u001b[0;34m(\u001b[0m\u001b[0moutput_generator\u001b[0m\u001b[0;34m)\u001b[0m\u001b[0;34m\u001b[0m\u001b[0m\n\u001b[0m\u001b[1;32m   2193\u001b[0m \u001b[0;34m\u001b[0m\u001b[0m\n\u001b[1;32m   2194\u001b[0m                     \u001b[0;32mif\u001b[0m \u001b[0;32mnot\u001b[0m \u001b[0mhasattr\u001b[0m\u001b[0;34m(\u001b[0m\u001b[0mgenerator_output\u001b[0m\u001b[0;34m,\u001b[0m \u001b[0;34m'__len__'\u001b[0m\u001b[0;34m)\u001b[0m\u001b[0;34m:\u001b[0m\u001b[0;34m\u001b[0m\u001b[0m\n",
      "\u001b[0;32m/opt/conda/lib/python3.6/site-packages/keras/utils/data_utils.py\u001b[0m in \u001b[0;36mget\u001b[0;34m(self)\u001b[0m\n\u001b[1;32m    576\u001b[0m         \u001b[0;32mtry\u001b[0m\u001b[0;34m:\u001b[0m\u001b[0;34m\u001b[0m\u001b[0m\n\u001b[1;32m    577\u001b[0m             \u001b[0;32mwhile\u001b[0m \u001b[0mself\u001b[0m\u001b[0;34m.\u001b[0m\u001b[0mis_running\u001b[0m\u001b[0;34m(\u001b[0m\u001b[0;34m)\u001b[0m\u001b[0;34m:\u001b[0m\u001b[0;34m\u001b[0m\u001b[0m\n\u001b[0;32m--> 578\u001b[0;31m                 \u001b[0minputs\u001b[0m \u001b[0;34m=\u001b[0m \u001b[0mself\u001b[0m\u001b[0;34m.\u001b[0m\u001b[0mqueue\u001b[0m\u001b[0;34m.\u001b[0m\u001b[0mget\u001b[0m\u001b[0;34m(\u001b[0m\u001b[0mblock\u001b[0m\u001b[0;34m=\u001b[0m\u001b[0;32mTrue\u001b[0m\u001b[0;34m)\u001b[0m\u001b[0;34m.\u001b[0m\u001b[0mget\u001b[0m\u001b[0;34m(\u001b[0m\u001b[0;34m)\u001b[0m\u001b[0;34m\u001b[0m\u001b[0m\n\u001b[0m\u001b[1;32m    579\u001b[0m                 \u001b[0mself\u001b[0m\u001b[0;34m.\u001b[0m\u001b[0mqueue\u001b[0m\u001b[0;34m.\u001b[0m\u001b[0mtask_done\u001b[0m\u001b[0;34m(\u001b[0m\u001b[0;34m)\u001b[0m\u001b[0;34m\u001b[0m\u001b[0m\n\u001b[1;32m    580\u001b[0m                 \u001b[0;32mif\u001b[0m \u001b[0minputs\u001b[0m \u001b[0;32mis\u001b[0m \u001b[0;32mnot\u001b[0m \u001b[0;32mNone\u001b[0m\u001b[0;34m:\u001b[0m\u001b[0;34m\u001b[0m\u001b[0m\n",
      "\u001b[0;32m/opt/conda/lib/python3.6/multiprocessing/pool.py\u001b[0m in \u001b[0;36mget\u001b[0;34m(self, timeout)\u001b[0m\n\u001b[1;32m    636\u001b[0m \u001b[0;34m\u001b[0m\u001b[0m\n\u001b[1;32m    637\u001b[0m     \u001b[0;32mdef\u001b[0m \u001b[0mget\u001b[0m\u001b[0;34m(\u001b[0m\u001b[0mself\u001b[0m\u001b[0;34m,\u001b[0m \u001b[0mtimeout\u001b[0m\u001b[0;34m=\u001b[0m\u001b[0;32mNone\u001b[0m\u001b[0;34m)\u001b[0m\u001b[0;34m:\u001b[0m\u001b[0;34m\u001b[0m\u001b[0m\n\u001b[0;32m--> 638\u001b[0;31m         \u001b[0mself\u001b[0m\u001b[0;34m.\u001b[0m\u001b[0mwait\u001b[0m\u001b[0;34m(\u001b[0m\u001b[0mtimeout\u001b[0m\u001b[0;34m)\u001b[0m\u001b[0;34m\u001b[0m\u001b[0m\n\u001b[0m\u001b[1;32m    639\u001b[0m         \u001b[0;32mif\u001b[0m \u001b[0;32mnot\u001b[0m \u001b[0mself\u001b[0m\u001b[0;34m.\u001b[0m\u001b[0mready\u001b[0m\u001b[0;34m(\u001b[0m\u001b[0;34m)\u001b[0m\u001b[0;34m:\u001b[0m\u001b[0;34m\u001b[0m\u001b[0m\n\u001b[1;32m    640\u001b[0m             \u001b[0;32mraise\u001b[0m \u001b[0mTimeoutError\u001b[0m\u001b[0;34m\u001b[0m\u001b[0m\n",
      "\u001b[0;32m/opt/conda/lib/python3.6/multiprocessing/pool.py\u001b[0m in \u001b[0;36mwait\u001b[0;34m(self, timeout)\u001b[0m\n\u001b[1;32m    633\u001b[0m \u001b[0;34m\u001b[0m\u001b[0m\n\u001b[1;32m    634\u001b[0m     \u001b[0;32mdef\u001b[0m \u001b[0mwait\u001b[0m\u001b[0;34m(\u001b[0m\u001b[0mself\u001b[0m\u001b[0;34m,\u001b[0m \u001b[0mtimeout\u001b[0m\u001b[0;34m=\u001b[0m\u001b[0;32mNone\u001b[0m\u001b[0;34m)\u001b[0m\u001b[0;34m:\u001b[0m\u001b[0;34m\u001b[0m\u001b[0m\n\u001b[0;32m--> 635\u001b[0;31m         \u001b[0mself\u001b[0m\u001b[0;34m.\u001b[0m\u001b[0m_event\u001b[0m\u001b[0;34m.\u001b[0m\u001b[0mwait\u001b[0m\u001b[0;34m(\u001b[0m\u001b[0mtimeout\u001b[0m\u001b[0;34m)\u001b[0m\u001b[0;34m\u001b[0m\u001b[0m\n\u001b[0m\u001b[1;32m    636\u001b[0m \u001b[0;34m\u001b[0m\u001b[0m\n\u001b[1;32m    637\u001b[0m     \u001b[0;32mdef\u001b[0m \u001b[0mget\u001b[0m\u001b[0;34m(\u001b[0m\u001b[0mself\u001b[0m\u001b[0;34m,\u001b[0m \u001b[0mtimeout\u001b[0m\u001b[0;34m=\u001b[0m\u001b[0;32mNone\u001b[0m\u001b[0;34m)\u001b[0m\u001b[0;34m:\u001b[0m\u001b[0;34m\u001b[0m\u001b[0m\n",
      "\u001b[0;32m/opt/conda/lib/python3.6/threading.py\u001b[0m in \u001b[0;36mwait\u001b[0;34m(self, timeout)\u001b[0m\n\u001b[1;32m    549\u001b[0m             \u001b[0msignaled\u001b[0m \u001b[0;34m=\u001b[0m \u001b[0mself\u001b[0m\u001b[0;34m.\u001b[0m\u001b[0m_flag\u001b[0m\u001b[0;34m\u001b[0m\u001b[0m\n\u001b[1;32m    550\u001b[0m             \u001b[0;32mif\u001b[0m \u001b[0;32mnot\u001b[0m \u001b[0msignaled\u001b[0m\u001b[0;34m:\u001b[0m\u001b[0;34m\u001b[0m\u001b[0m\n\u001b[0;32m--> 551\u001b[0;31m                 \u001b[0msignaled\u001b[0m \u001b[0;34m=\u001b[0m \u001b[0mself\u001b[0m\u001b[0;34m.\u001b[0m\u001b[0m_cond\u001b[0m\u001b[0;34m.\u001b[0m\u001b[0mwait\u001b[0m\u001b[0;34m(\u001b[0m\u001b[0mtimeout\u001b[0m\u001b[0;34m)\u001b[0m\u001b[0;34m\u001b[0m\u001b[0m\n\u001b[0m\u001b[1;32m    552\u001b[0m             \u001b[0;32mreturn\u001b[0m \u001b[0msignaled\u001b[0m\u001b[0;34m\u001b[0m\u001b[0m\n\u001b[1;32m    553\u001b[0m \u001b[0;34m\u001b[0m\u001b[0m\n",
      "\u001b[0;32m/opt/conda/lib/python3.6/threading.py\u001b[0m in \u001b[0;36mwait\u001b[0;34m(self, timeout)\u001b[0m\n\u001b[1;32m    293\u001b[0m         \u001b[0;32mtry\u001b[0m\u001b[0;34m:\u001b[0m    \u001b[0;31m# restore state no matter what (e.g., KeyboardInterrupt)\u001b[0m\u001b[0;34m\u001b[0m\u001b[0m\n\u001b[1;32m    294\u001b[0m             \u001b[0;32mif\u001b[0m \u001b[0mtimeout\u001b[0m \u001b[0;32mis\u001b[0m \u001b[0;32mNone\u001b[0m\u001b[0;34m:\u001b[0m\u001b[0;34m\u001b[0m\u001b[0m\n\u001b[0;32m--> 295\u001b[0;31m                 \u001b[0mwaiter\u001b[0m\u001b[0;34m.\u001b[0m\u001b[0macquire\u001b[0m\u001b[0;34m(\u001b[0m\u001b[0;34m)\u001b[0m\u001b[0;34m\u001b[0m\u001b[0m\n\u001b[0m\u001b[1;32m    296\u001b[0m                 \u001b[0mgotit\u001b[0m \u001b[0;34m=\u001b[0m \u001b[0;32mTrue\u001b[0m\u001b[0;34m\u001b[0m\u001b[0m\n\u001b[1;32m    297\u001b[0m             \u001b[0;32melse\u001b[0m\u001b[0;34m:\u001b[0m\u001b[0;34m\u001b[0m\u001b[0m\n",
      "\u001b[0;31mKeyboardInterrupt\u001b[0m: "
     ]
    }
   ],
   "source": [
    "cnn1= load_model('18-0.24.h5')\n",
    "hist3 = cnn1.fit_generator(train_generator, \n",
    "                   steps_per_epoch=np.ceil(142587 / 32), \n",
    "                   epochs=20, \n",
    "                   verbose=1,\n",
    "                   validation_data=valid_generator,\n",
    "                   validation_steps = np.ceil(35647 / 32),\n",
    "#                   callbacks = callbacks,\n",
    "                         initial_epoch = 18)"
   ]
  },
  {
   "cell_type": "code",
   "execution_count": 20,
   "metadata": {},
   "outputs": [],
   "source": [
    "train_acc = [0.8178,0.8577,0.8752,0.8851,0.8932,0.8989,0.9008,0.9056,0.9070,0.9100,0.9125,0.9130,0.9151,0.9155,0.9173,0.9196,0.9190,0.9202,0.9185,0.9223]\n",
    "train_loss = [0.4081,0.3323,0.2999,0.2812,0.2643,0.2527,0.2479,0.2402,0.2352,0.2298,0.2249,0.2231,0.2187,0.2175,0.2133,0.2099,0.2098,0.2075,0.1995,0.2037]\n",
    "valid_acc = [0.8652,0.8655,0.8895,0.8790,0.8660,0.9091,0.8919,0.9109,0.9224,0.8850,0.9119,0.9185,0.9206,0.9100,0.9110,0.9030,0.8993,0.8958,0.9158,0.9114]\n",
    "valid_loss = [0.3192,0.3114,0.2715,0.2803,0.3122,0.2343,0.2582,0.2243,0.2015,0.2584,0.2138,0.2060,0.2006,0.2197,0.2182,0.2256,0.2408,0.2414,0.2052,0.2103]"
   ]
  },
  {
   "cell_type": "code",
   "execution_count": 9,
   "metadata": {},
   "outputs": [
    {
     "name": "stderr",
     "output_type": "stream",
     "text": [
      "/opt/conda/lib/python3.6/site-packages/keras/preprocessing/image.py:594: UserWarning: This ImageDataGenerator specifies `featurewise_center`, but it hasn't been fit on any training data. Fit it first by calling `.fit(numpy_data)`.\n",
      "  warnings.warn('This ImageDataGenerator specifies '\n",
      "/opt/conda/lib/python3.6/site-packages/keras/preprocessing/image.py:602: UserWarning: This ImageDataGenerator specifies `featurewise_std_normalization`, but it hasn't been fit on any training data. Fit it first by calling `.fit(numpy_data)`.\n",
      "  warnings.warn('This ImageDataGenerator specifies '\n"
     ]
    },
    {
     "data": {
      "text/plain": [
       "[0.19951312608527652, 0.918470828333458]"
      ]
     },
     "execution_count": 9,
     "metadata": {},
     "output_type": "execute_result"
    }
   ],
   "source": [
    "from keras.models import load_model\n",
    "import numpy as np\n",
    "cnn1= load_model('19-0.20.h5')\n",
    "cnn1.evaluate_generator(train_generator,steps = np.ceil(142587 / 32))"
   ]
  },
  {
   "cell_type": "code",
   "execution_count": 30,
   "metadata": {},
   "outputs": [
    {
     "name": "stderr",
     "output_type": "stream",
     "text": [
      "/opt/conda/lib/python3.6/site-packages/keras/preprocessing/image.py:594: UserWarning: This ImageDataGenerator specifies `featurewise_center`, but it hasn't been fit on any training data. Fit it first by calling `.fit(numpy_data)`.\n",
      "  warnings.warn('This ImageDataGenerator specifies '\n",
      "/opt/conda/lib/python3.6/site-packages/keras/preprocessing/image.py:602: UserWarning: This ImageDataGenerator specifies `featurewise_std_normalization`, but it hasn't been fit on any training data. Fit it first by calling `.fit(numpy_data)`.\n",
      "  warnings.warn('This ImageDataGenerator specifies '\n"
     ]
    },
    {
     "ename": "ValueError",
     "evalue": "Found input variables with inconsistent numbers of samples: [35647, 71294]",
     "output_type": "error",
     "traceback": [
      "\u001b[0;31m\u001b[0m",
      "\u001b[0;31mValueError\u001b[0mTraceback (most recent call last)",
      "\u001b[0;32m<ipython-input-30-f93d801360c6>\u001b[0m in \u001b[0;36m<module>\u001b[0;34m()\u001b[0m\n\u001b[1;32m      2\u001b[0m \u001b[0mmodel\u001b[0m \u001b[0;34m=\u001b[0m \u001b[0mload_model\u001b[0m\u001b[0;34m(\u001b[0m\u001b[0;34m'09-0.20.h5'\u001b[0m\u001b[0;34m)\u001b[0m\u001b[0;34m\u001b[0m\u001b[0m\n\u001b[1;32m      3\u001b[0m \u001b[0my_pred_keras\u001b[0m \u001b[0;34m=\u001b[0m \u001b[0mmodel\u001b[0m\u001b[0;34m.\u001b[0m\u001b[0mpredict_generator\u001b[0m\u001b[0;34m(\u001b[0m\u001b[0mvalid_generator\u001b[0m\u001b[0;34m)\u001b[0m\u001b[0;34m.\u001b[0m\u001b[0mravel\u001b[0m\u001b[0;34m(\u001b[0m\u001b[0;34m)\u001b[0m\u001b[0;34m\u001b[0m\u001b[0m\n\u001b[0;32m----> 4\u001b[0;31m \u001b[0mfpr_keras\u001b[0m\u001b[0;34m,\u001b[0m \u001b[0mtpr_keras\u001b[0m\u001b[0;34m,\u001b[0m \u001b[0mthresholds_keras\u001b[0m \u001b[0;34m=\u001b[0m \u001b[0mroc_curve\u001b[0m\u001b[0;34m(\u001b[0m\u001b[0my_test\u001b[0m\u001b[0;34m,\u001b[0m \u001b[0my_pred_keras\u001b[0m\u001b[0;34m)\u001b[0m\u001b[0;34m\u001b[0m\u001b[0m\n\u001b[0m\u001b[1;32m      5\u001b[0m \u001b[0mplt\u001b[0m\u001b[0;34m.\u001b[0m\u001b[0mplot\u001b[0m\u001b[0;34m(\u001b[0m\u001b[0mfpr_keras\u001b[0m\u001b[0;34m,\u001b[0m \u001b[0mtpr_keras\u001b[0m\u001b[0;34m,\u001b[0m \u001b[0mlabel\u001b[0m\u001b[0;34m=\u001b[0m\u001b[0;34m'Keras (area = {:.3f})'\u001b[0m\u001b[0;34m.\u001b[0m\u001b[0mformat\u001b[0m\u001b[0;34m(\u001b[0m\u001b[0mauc_keras\u001b[0m\u001b[0;34m)\u001b[0m\u001b[0;34m)\u001b[0m\u001b[0;34m\u001b[0m\u001b[0m\n",
      "\u001b[0;32m/opt/conda/lib/python3.6/site-packages/sklearn/metrics/ranking.py\u001b[0m in \u001b[0;36mroc_curve\u001b[0;34m(y_true, y_score, pos_label, sample_weight, drop_intermediate)\u001b[0m\n\u001b[1;32m    532\u001b[0m     \"\"\"\n\u001b[1;32m    533\u001b[0m     fps, tps, thresholds = _binary_clf_curve(\n\u001b[0;32m--> 534\u001b[0;31m         y_true, y_score, pos_label=pos_label, sample_weight=sample_weight)\n\u001b[0m\u001b[1;32m    535\u001b[0m \u001b[0;34m\u001b[0m\u001b[0m\n\u001b[1;32m    536\u001b[0m     \u001b[0;31m# Attempt to drop thresholds corresponding to points in between and\u001b[0m\u001b[0;34m\u001b[0m\u001b[0;34m\u001b[0m\u001b[0m\n",
      "\u001b[0;32m/opt/conda/lib/python3.6/site-packages/sklearn/metrics/ranking.py\u001b[0m in \u001b[0;36m_binary_clf_curve\u001b[0;34m(y_true, y_score, pos_label, sample_weight)\u001b[0m\n\u001b[1;32m    318\u001b[0m         \u001b[0;32mraise\u001b[0m \u001b[0mValueError\u001b[0m\u001b[0;34m(\u001b[0m\u001b[0;34m\"{0} format is not supported\"\u001b[0m\u001b[0;34m.\u001b[0m\u001b[0mformat\u001b[0m\u001b[0;34m(\u001b[0m\u001b[0my_type\u001b[0m\u001b[0;34m)\u001b[0m\u001b[0;34m)\u001b[0m\u001b[0;34m\u001b[0m\u001b[0m\n\u001b[1;32m    319\u001b[0m \u001b[0;34m\u001b[0m\u001b[0m\n\u001b[0;32m--> 320\u001b[0;31m     \u001b[0mcheck_consistent_length\u001b[0m\u001b[0;34m(\u001b[0m\u001b[0my_true\u001b[0m\u001b[0;34m,\u001b[0m \u001b[0my_score\u001b[0m\u001b[0;34m,\u001b[0m \u001b[0msample_weight\u001b[0m\u001b[0;34m)\u001b[0m\u001b[0;34m\u001b[0m\u001b[0m\n\u001b[0m\u001b[1;32m    321\u001b[0m     \u001b[0my_true\u001b[0m \u001b[0;34m=\u001b[0m \u001b[0mcolumn_or_1d\u001b[0m\u001b[0;34m(\u001b[0m\u001b[0my_true\u001b[0m\u001b[0;34m)\u001b[0m\u001b[0;34m\u001b[0m\u001b[0m\n\u001b[1;32m    322\u001b[0m     \u001b[0my_score\u001b[0m \u001b[0;34m=\u001b[0m \u001b[0mcolumn_or_1d\u001b[0m\u001b[0;34m(\u001b[0m\u001b[0my_score\u001b[0m\u001b[0;34m)\u001b[0m\u001b[0;34m\u001b[0m\u001b[0m\n",
      "\u001b[0;32m/opt/conda/lib/python3.6/site-packages/sklearn/utils/validation.py\u001b[0m in \u001b[0;36mcheck_consistent_length\u001b[0;34m(*arrays)\u001b[0m\n\u001b[1;32m    202\u001b[0m     \u001b[0;32mif\u001b[0m \u001b[0mlen\u001b[0m\u001b[0;34m(\u001b[0m\u001b[0muniques\u001b[0m\u001b[0;34m)\u001b[0m \u001b[0;34m>\u001b[0m \u001b[0;36m1\u001b[0m\u001b[0;34m:\u001b[0m\u001b[0;34m\u001b[0m\u001b[0m\n\u001b[1;32m    203\u001b[0m         raise ValueError(\"Found input variables with inconsistent numbers of\"\n\u001b[0;32m--> 204\u001b[0;31m                          \" samples: %r\" % [int(l) for l in lengths])\n\u001b[0m\u001b[1;32m    205\u001b[0m \u001b[0;34m\u001b[0m\u001b[0m\n\u001b[1;32m    206\u001b[0m \u001b[0;34m\u001b[0m\u001b[0m\n",
      "\u001b[0;31mValueError\u001b[0m: Found input variables with inconsistent numbers of samples: [35647, 71294]"
     ]
    }
   ],
   "source": [
    "from sklearn.metrics import roc_curve\n",
    "model = load_model('09-0.20.h5')"
   ]
  },
  {
   "cell_type": "code",
   "execution_count": 50,
   "metadata": {},
   "outputs": [
    {
     "name": "stdout",
     "output_type": "stream",
     "text": [
      "Found 35647 images belonging to 2 classes.\n"
     ]
    }
   ],
   "source": [
    "from sklearn.metrics import roc_auc_score\n",
    "test_datagen = ImageDataGenerator()\n",
    "\n",
    "test_generator = test_datagen.flow_from_directory(\n",
    "    directory=\"validate/\",\n",
    "    target_size=(96, 96),\n",
    "    color_mode=\"rgb\",\n",
    "    batch_size=32,\n",
    "    class_mode=\"categorical\",\n",
    "    shuffle=False\n",
    ")                                            \n",
    "test_steps = np.ceil(test_generator.samples/test_generator.batch_size)\n",
    "true_classes = test_generator.classes\n",
    "predictions = model.predict_generator(generator = test_generator, steps = test_steps)\n",
    "# y_pred_keras = model.predict_generator(y).ravel()\n",
    "# fpr_keras, tpr_keras, thresholds_keras = roc_curve(y_test, y_pred_keras)\n",
    "# plt.plot(fpr_keras, tpr_keras, label='Keras (area = {:.3f})'.format(auc_keras))\n",
    "\n",
    "# fpr_keras, tpr_keras, thresholds_keras = roc_curve(y_test, y_pred_keras)\n",
    "# plt.plot(fpr_keras, tpr_keras, label='Keras (area = {:.3f})'.format(auc_keras))"
   ]
  },
  {
   "cell_type": "code",
   "execution_count": 52,
   "metadata": {},
   "outputs": [
    {
     "name": "stdout",
     "output_type": "stream",
     "text": [
      "auc score from generator 0.42173955984437217\n"
     ]
    },
    {
     "data": {
      "text/plain": [
       "[<matplotlib.lines.Line2D at 0x7f908c38f7b8>]"
      ]
     },
     "execution_count": 52,
     "metadata": {},
     "output_type": "execute_result"
    },
    {
     "data": {
      "image/png": "[encoded data removed]",
      "text/plain": [
       "<Figure size 432x288 with 1 Axes>"
      ]
     },
     "metadata": {},
     "output_type": "display_data"
    }
   ],
   "source": [
    "from sklearn.metrics import roc_auc_score\n",
    "\n",
    "auc = roc_auc_score(y_true = true_classes, y_score = (predictions[:,0]>predictions[:,1]).astype(int))\n",
    "fpr_keras, tpr_keras, thresholds_keras = roc_curve(true_classes, (predictions[:,0]>predictions[:,1]).astype(int))\n",
    "print('auc score from generator', auc)\n",
    "plt.plot(fpr_keras, tpr_keras, label='Keras (area = {:.3f})')\n"
   ]
  },
  {
   "cell_type": "code",
   "execution_count": 18,
   "metadata": {},
   "outputs": [
    {
     "data": {
      "image/png": "[encoded data removed]",
      "text/plain": [
       "<Figure size 720x360 with 2 Axes>"
      ]
     },
     "metadata": {},
     "output_type": "display_data"
    }
   ],
   "source": [
    "import matplotlib.pyplot as plt\n",
    "f, axarr = plt.subplots(1,2,figsize = (10,5))\n",
    "axarr[0].plot(train_acc)\n",
    "axarr[0].plot(valid_acc)\n",
    "axarr[0].set_title('Accuracy')\n",
    "axarr[0].legend(['training','validation'])\n",
    "axarr[1].plot(train_loss)\n",
    "axarr[1].plot(valid_loss)\n",
    "axarr[1].set_title('Losses')\n",
    "axarr[1].legend(['training','validation'])\n",
    "for ax in axarr.flat:\n",
    "    ax.set(xlabel='epochs')\n"
   ]
  },
  {
   "cell_type": "code",
   "execution_count": 1,
   "metadata": {},
   "outputs": [
    {
     "name": "stderr",
     "output_type": "stream",
     "text": [
      "/opt/conda/lib/python3.6/site-packages/h5py/__init__.py:36: FutureWarning: Conversion of the second argument of issubdtype from `float` to `np.floating` is deprecated. In future, it will be treated as `np.float64 == np.dtype(float).type`.\n",
      "  from ._conv import register_converters as _register_converters\n",
      "Using TensorFlow backend.\n"
     ]
    },
    {
     "name": "stdout",
     "output_type": "stream",
     "text": [
      "_________________________________________________________________\n",
      "Layer (type)                 Output Shape              Param #   \n",
      "=================================================================\n",
      "conv2d_9 (Conv2D)            (None, 94, 94, 32)        896       \n",
      "_________________________________________________________________\n",
      "batch_normalization_13 (Batc (None, 94, 94, 32)        128       \n",
      "_________________________________________________________________\n",
      "conv2d_10 (Conv2D)           (None, 92, 92, 32)        9248      \n",
      "_________________________________________________________________\n",
      "batch_normalization_14 (Batc (None, 92, 92, 32)        128       \n",
      "_________________________________________________________________\n",
      "max_pooling2d_5 (MaxPooling2 (None, 46, 46, 32)        0         \n",
      "_________________________________________________________________\n",
      "dropout_11 (Dropout)         (None, 46, 46, 32)        0         \n",
      "_________________________________________________________________\n",
      "conv2d_11 (Conv2D)           (None, 44, 44, 64)        18496     \n",
      "_________________________________________________________________\n",
      "batch_normalization_15 (Batc (None, 44, 44, 64)        256       \n",
      "_________________________________________________________________\n",
      "dropout_12 (Dropout)         (None, 44, 44, 64)        0         \n",
      "_________________________________________________________________\n",
      "conv2d_12 (Conv2D)           (None, 42, 42, 128)       73856     \n",
      "_________________________________________________________________\n",
      "batch_normalization_16 (Batc (None, 42, 42, 128)       512       \n",
      "_________________________________________________________________\n",
      "max_pooling2d_6 (MaxPooling2 (None, 21, 21, 128)       0         \n",
      "_________________________________________________________________\n",
      "dropout_13 (Dropout)         (None, 21, 21, 128)       0         \n",
      "_________________________________________________________________\n",
      "flatten_3 (Flatten)          (None, 56448)             0         \n",
      "_________________________________________________________________\n",
      "dense_7 (Dense)              (None, 512)               28901888  \n",
      "_________________________________________________________________\n",
      "batch_normalization_17 (Batc (None, 512)               2048      \n",
      "_________________________________________________________________\n",
      "dropout_14 (Dropout)         (None, 512)               0         \n",
      "_________________________________________________________________\n",
      "dense_8 (Dense)              (None, 128)               65664     \n",
      "_________________________________________________________________\n",
      "batch_normalization_18 (Batc (None, 128)               512       \n",
      "_________________________________________________________________\n",
      "dropout_15 (Dropout)         (None, 128)               0         \n",
      "_________________________________________________________________\n",
      "dense_9 (Dense)              (None, 2)                 258       \n",
      "=================================================================\n",
      "Total params: 29,073,890\n",
      "Trainable params: 29,072,098\n",
      "Non-trainable params: 1,792\n",
      "_________________________________________________________________\n"
     ]
    }
   ],
   "source": [
    "from keras.models import load_model\n",
    "import numpy as np\n",
    "cnn1= load_model('19-0.20.h5')\n",
    "cnn1.summary()"
   ]
  },
  {
   "cell_type": "code",
   "execution_count": 18,
   "metadata": {},
   "outputs": [
    {
     "name": "stderr",
     "output_type": "stream",
     "text": [
      "/opt/conda/lib/python3.6/site-packages/ipykernel_launcher.py:11: UserWarning: Update your `Model` call to the Keras 2 API: `Model(inputs=Tensor(\"co..., outputs=[<tf.Tenso...)`\n",
      "  # This is added back by InteractiveShellApp.init_path()\n"
     ]
    },
    {
     "data": {
      "image/png": "[encoded data removed]",
      "text/plain": [
       "<Figure size 432x288 with 5 Axes>"
      ]
     },
     "metadata": {},
     "output_type": "display_data"
    }
   ],
   "source": [
    "from keras import models\n",
    "import matplotlib.pyplot as plt\n",
    "test_im = plt.imread('train/true/d9616084e2957be77682398aa644e49dcbfa02a5.tif')\n",
    "cnn1 = load_model('09-0.20.h5')\n",
    "\n",
    "# extracts the outputs of the top 8 layers\n",
    "layer_outputs = [layer.output for layer in cnn1.layers[:8]]\n",
    "\n",
    "\n",
    "# creates a model that will return these outputs, given the model input\n",
    "activation_model = models.Model(input=cnn1.input, output=layer_outputs)\n",
    "\n",
    "# returns a list of Numpy arrays: one array per layer activation\n",
    "activations = activation_model.predict(test_im.reshape(1,96,96,3))\n",
    "\n",
    "# activation of the 1st convolution layer\n",
    "first_layer_activation = activations[0]\n",
    "\n",
    "# display the 3rd channel of the activation of the 1st layer of the original model\n",
    "# fig.add_subplot(3,1,1)\n",
    "plt.subplot(151)\n",
    "plt.imshow(test_im)\n",
    "plt.title('initial image')\n",
    "plt.subplot(152)\n",
    "plt.imshow(first_layer_activation[0, :, :, 3], cmap='viridis')\n",
    "plt.title('1st layer')\n",
    "# fig.add_subplot(3,1,2)\n",
    "plt.subplot(153)\n",
    "plt.imshow(activations[1][0, :, :, 3], cmap='viridis')\n",
    "plt.title('2nd layer')\n",
    "# fig.add_subplot(3,1,3)\n",
    "plt.subplot(154)\n",
    "plt.imshow(activations[2][0, :, :, 3], cmap='viridis')\n",
    "plt.title('3rd layer')\n",
    "plt.subplot(155)\n",
    "plt.imshow(activations[3][0, :, :, 3], cmap='viridis')\n",
    "plt.title('4th layer')\n",
    "plt.savefig('im1.png')"
   ]
  },
  {
   "cell_type": "code",
   "execution_count": 25,
   "metadata": {},
   "outputs": [
    {
     "data": {
      "text/plain": [
       "0.9224"
      ]
     },
     "execution_count": 25,
     "metadata": {},
     "output_type": "execute_result"
    }
   ],
   "source": [
    "valid_acc[8]"
   ]
  },
  {
   "cell_type": "code",
   "execution_count": 26,
   "metadata": {},
   "outputs": [
    {
     "data": {
      "text/plain": [
       "0.2015"
      ]
     },
     "execution_count": 26,
     "metadata": {},
     "output_type": "execute_result"
    }
   ],
   "source": [
    "valid_loss[8]"
   ]
  },
  {
   "cell_type": "code",
   "execution_count": null,
   "metadata": {},
   "outputs": [],
   "source": []
  }
 ],
 "metadata": {
  "kernelspec": {
   "display_name": "Python 3",
   "language": "python",
   "name": "python3"
  },
  "language_info": {
   "codemirror_mode": {
    "name": "ipython",
    "version": 3
   },
   "file_extension": ".py",
   "mimetype": "text/x-python",
   "name": "python",
   "nbconvert_exporter": "python",
   "pygments_lexer": "ipython3",
   "version": "3.6.5"
  }
 },
 "nbformat": 4,
 "nbformat_minor": 2
}
